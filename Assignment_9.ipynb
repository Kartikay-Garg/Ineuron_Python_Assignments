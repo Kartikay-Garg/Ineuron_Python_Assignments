{
 "cells": [
  {
   "cell_type": "markdown",
   "id": "f03da7e4-7d56-4d89-b64a-1f6d537561e3",
   "metadata": {},
   "source": [
    "1. To what does a relative path refer?"
   ]
  },
  {
   "cell_type": "code",
   "execution_count": 1,
   "id": "e5068db7-5aed-4eff-b917-e17f5a654c85",
   "metadata": {},
   "outputs": [],
   "source": [
    "#  Relative paths are relative to the current working directory."
   ]
  },
  {
   "cell_type": "markdown",
   "id": "4b6f2c30-a01a-4843-a6ba-cf66aee8b44d",
   "metadata": {},
   "source": [
    "2. What does an absolute path start with your operating system?"
   ]
  },
  {
   "cell_type": "code",
   "execution_count": 2,
   "id": "e00a24e8-b456-4f7e-8005-524423569bde",
   "metadata": {},
   "outputs": [],
   "source": [
    "# Absolute paths start with the root folder, such as / or C:\\."
   ]
  },
  {
   "cell_type": "markdown",
   "id": "750d424d-f1c7-496e-8d0e-8b91f7476f31",
   "metadata": {},
   "source": [
    "3. What do the functions os.getcwd() and os.chdir() do?"
   ]
  },
  {
   "cell_type": "code",
   "execution_count": 5,
   "id": "c970ca93-f833-41e7-b010-0f591d2b39bb",
   "metadata": {},
   "outputs": [],
   "source": [
    "# The os.getcwd() function returns the current working directory.\n",
    "#The os.chdir() function changes the current working directory."
   ]
  },
  {
   "cell_type": "markdown",
   "id": "5d4cc94d-bb10-4c4f-9da4-a837a484f5a5",
   "metadata": {},
   "source": [
    "4. What are the . and .. folders?"
   ]
  },
  {
   "cell_type": "code",
   "execution_count": 6,
   "id": "2976d964-a664-477f-975f-1e19807c37d2",
   "metadata": {},
   "outputs": [],
   "source": [
    "# The . folder is the current folder, and .. is the parent folder."
   ]
  },
  {
   "cell_type": "markdown",
   "id": "fba159d1-6be9-4a94-94b4-ce5085609644",
   "metadata": {},
   "source": [
    "5. In C:\\bacon\\eggs\\spam.txt, which part is the dir name, and which part is the base name?"
   ]
  },
  {
   "cell_type": "code",
   "execution_count": 7,
   "id": "bf4063ff-1dc3-473e-8496-1567cfe5abcd",
   "metadata": {},
   "outputs": [],
   "source": [
    "# C:\\bacon\\eggs is the dir name, while spam.txt is the base name."
   ]
  },
  {
   "cell_type": "markdown",
   "id": "d9f77690-4988-4756-9b69-7fd321fd337d",
   "metadata": {},
   "source": [
    "6. What are the three “mode” arguments that can be passed to the open() function?"
   ]
  },
  {
   "cell_type": "code",
   "execution_count": 8,
   "id": "860d5148-8eec-4b5d-877c-bfd49a254989",
   "metadata": {},
   "outputs": [],
   "source": [
    "# The string 'r' for read mode, 'w' for write mode, and 'a' for append mode"
   ]
  },
  {
   "cell_type": "markdown",
   "id": "7cca9b5d-cc73-4a39-8adf-bde531cb3b09",
   "metadata": {},
   "source": [
    "7. What happens if an existing file is opened in write mode?"
   ]
  },
  {
   "cell_type": "code",
   "execution_count": 9,
   "id": "dea57563-d2bb-4bc6-a058-671be02c7abf",
   "metadata": {},
   "outputs": [],
   "source": [
    "# An existing file opened in write mode is erased and completely overwritten"
   ]
  },
  {
   "cell_type": "markdown",
   "id": "9a921026-e917-48e9-85f0-bd42647eae14",
   "metadata": {},
   "source": [
    "8. How do you tell the difference between read() and readlines()?"
   ]
  },
  {
   "cell_type": "code",
   "execution_count": 10,
   "id": "f88fb9f4-fa18-40ad-b118-31c61cfcace8",
   "metadata": {},
   "outputs": [],
   "source": [
    "# The read() method returns the file’s entire contents as a single string value.\n",
    "#The readlines() method returns a list of strings, where each string is a line from the file’s contents."
   ]
  },
  {
   "cell_type": "markdown",
   "id": "6f895a98-9a97-4d89-b9dc-f369c312fba0",
   "metadata": {},
   "source": [
    "9. What data structure does a shelf value resemble?"
   ]
  },
  {
   "cell_type": "code",
   "execution_count": 11,
   "id": "64c7ae3b-9f46-459a-8cef-2449b66dfb12",
   "metadata": {},
   "outputs": [],
   "source": [
    "# A shelf value resembles a dictionary value;\n",
    "#it has keys and values, along with keys() and values() methods that work similarly to the dictionary methods of the same names."
   ]
  },
  {
   "cell_type": "code",
   "execution_count": null,
   "id": "07102453-da90-4cee-9d24-5a8a8f824e59",
   "metadata": {},
   "outputs": [],
   "source": []
  }
 ],
 "metadata": {
  "kernelspec": {
   "display_name": "Python 3 (ipykernel)",
   "language": "python",
   "name": "python3"
  },
  "language_info": {
   "codemirror_mode": {
    "name": "ipython",
    "version": 3
   },
   "file_extension": ".py",
   "mimetype": "text/x-python",
   "name": "python",
   "nbconvert_exporter": "python",
   "pygments_lexer": "ipython3",
   "version": "3.10.6"
  }
 },
 "nbformat": 4,
 "nbformat_minor": 5
}
