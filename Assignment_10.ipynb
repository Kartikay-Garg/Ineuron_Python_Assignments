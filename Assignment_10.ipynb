{
 "cells": [
  {
   "cell_type": "markdown",
   "id": "71be6b6a-f25e-43f1-bfda-41d779e64d4c",
   "metadata": {},
   "source": [
    "1. How do you distinguish between shutil.copy() and shutil.copytree()?"
   ]
  },
  {
   "cell_type": "code",
   "execution_count": 1,
   "id": "fd43b1a6-cd1d-4b54-af2c-47bd715f0d0d",
   "metadata": {},
   "outputs": [],
   "source": [
    "# The shutil.copy() function will copy a single file, while shutil.copytree() will copy an entire folder, along with all its contents."
   ]
  },
  {
   "cell_type": "markdown",
   "id": "0b8eee8d-8af4-4394-8534-f8a1f8c94132",
   "metadata": {},
   "source": [
    "2. What function is used to rename files??"
   ]
  },
  {
   "cell_type": "code",
   "execution_count": 2,
   "id": "1ab2a36e-5f34-4c9f-8954-0f1a08053385",
   "metadata": {},
   "outputs": [],
   "source": [
    " #The shutil.move() function is used for renaming files as well as moving them."
   ]
  },
  {
   "cell_type": "markdown",
   "id": "115ff2c8-648b-4b36-a63e-cab1f3001cbc",
   "metadata": {},
   "source": [
    "3. What is the difference between the delete functions in the send2trash and shutil modules?"
   ]
  },
  {
   "cell_type": "code",
   "execution_count": 3,
   "id": "2e3406e0-0400-4373-8de6-0ffe5532f04b",
   "metadata": {},
   "outputs": [],
   "source": [
    "# The send2trash functions will move a file or folder to the recycle bin, while shutil functions will permanently delete files and folders."
   ]
  },
  {
   "cell_type": "markdown",
   "id": "38649473-7b6f-464c-95ab-914ef238928b",
   "metadata": {},
   "source": [
    "4. ZipFile objects have a close() method just like File objects’ close() method. What ZipFile method is\n",
    "equivalent to File objects’ open() method?"
   ]
  },
  {
   "cell_type": "code",
   "execution_count": 4,
   "id": "d72f9e62-c6ee-46d2-9a96-9e5c46075d41",
   "metadata": {},
   "outputs": [],
   "source": [
    "# The zipfile.ZipFile() function is equivalent to the open() function; the first argument is the filename, and the second argument is the mode to open the ZIP file in (read, write, or append)."
   ]
  },
  {
   "cell_type": "markdown",
   "id": "3472be2a-5011-4571-afa6-2f0aef77d8d4",
   "metadata": {},
   "source": [
    "5. Create a programme that searches a folder tree for files with a certain file extension (such as .pdf\n",
    "or .jpg). Copy these files from whatever location they are in to a new folder."
   ]
  },
  {
   "cell_type": "code",
   "execution_count": 5,
   "id": "4a70a130-2527-4b38-9928-197888cbc432",
   "metadata": {},
   "outputs": [
    {
     "data": {
      "text/plain": [
       "\"\\nimport os, shutil\\n\\ndef selectiveCopy(folder, extensions, destFolder):\\n\\tfolder = os.path.abspath(folder)\\n\\tdestFolder = os.path.abspath(destFolder)\\n\\tprint('Looking in', folder, 'for files with extensions of', ', '.join(extensions))\\n\\tfor foldername, subfolders, filenames in os.walk(folder):\\n\\t\\tfor filename in filenames:\\n\\t\\t\\tname, extension = os.path.splitext(filename)\\n\\t\\t\\tif extension in extensions:\\n\\t\\t\\t\\tfileAbsPath = foldername + os.path.sep + filename\\n\\t\\t\\t\\tprint('Coping', fileAbsPath, 'to', destFolder)\\n\\t\\t\\t\\tshutil.copy(fileAbsPath, destFolder)\\n\\nextensions = ['.php', '.py']\\nfolder = 'randomFolder'\\ndestFolder = 'selectiveFolder'\\nselectiveCopy(folder, extensions, destFolder)\\n\""
      ]
     },
     "execution_count": 5,
     "metadata": {},
     "output_type": "execute_result"
    }
   ],
   "source": [
    "'''\n",
    "import os, shutil\n",
    "\n",
    "def selectiveCopy(folder, extensions, destFolder):\n",
    "\tfolder = os.path.abspath(folder)\n",
    "\tdestFolder = os.path.abspath(destFolder)\n",
    "\tprint('Looking in', folder, 'for files with extensions of', ', '.join(extensions))\n",
    "\tfor foldername, subfolders, filenames in os.walk(folder):\n",
    "\t\tfor filename in filenames:\n",
    "\t\t\tname, extension = os.path.splitext(filename)\n",
    "\t\t\tif extension in extensions:\n",
    "\t\t\t\tfileAbsPath = foldername + os.path.sep + filename\n",
    "\t\t\t\tprint('Coping', fileAbsPath, 'to', destFolder)\n",
    "\t\t\t\tshutil.copy(fileAbsPath, destFolder)\n",
    "\n",
    "extensions = ['.php', '.py']\n",
    "folder = 'randomFolder'\n",
    "destFolder = 'selectiveFolder'\n",
    "selectiveCopy(folder, extensions, destFolder)\n",
    "'''"
   ]
  },
  {
   "cell_type": "code",
   "execution_count": null,
   "id": "49d8e22d-cb33-4710-8ff8-c6718bd95ed9",
   "metadata": {},
   "outputs": [],
   "source": []
  }
 ],
 "metadata": {
  "kernelspec": {
   "display_name": "Python 3 (ipykernel)",
   "language": "python",
   "name": "python3"
  },
  "language_info": {
   "codemirror_mode": {
    "name": "ipython",
    "version": 3
   },
   "file_extension": ".py",
   "mimetype": "text/x-python",
   "name": "python",
   "nbconvert_exporter": "python",
   "pygments_lexer": "ipython3",
   "version": "3.10.6"
  }
 },
 "nbformat": 4,
 "nbformat_minor": 5
}
