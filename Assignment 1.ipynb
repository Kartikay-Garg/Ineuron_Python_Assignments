{
 "cells": [
  {
   "cell_type": "markdown",
   "id": "ddc97660-8f6f-45e1-b583-9e8f64ff1883",
   "metadata": {},
   "source": [
    "1. In the below elements which of them are values or an expression? eg:- values can be\n",
    "integer or string and expressions will be mathematical operators.\n",
    "  *, 'hello' , -87.8 , - , / , + , 6 "
   ]
  },
  {
   "cell_type": "markdown",
   "id": "bcdf03fc-7bd1-4662-bef3-7628e806fbc2",
   "metadata": {},
   "source": [
    "'*', '-' , '/' , '+' are expressions as they are all mathematical operators.\n",
    "'hello' , -87.8 , 6 are values and they are string , float and integer repectively."
   ]
  },
  {
   "cell_type": "markdown",
   "id": "9bc57095-275d-4fd5-ac0c-ab2daf8641f5",
   "metadata": {},
   "source": [
    "2. What is the difference between string and variable?"
   ]
  },
  {
   "cell_type": "markdown",
   "id": "979e84bc-5606-4714-868d-cc05daf07f2d",
   "metadata": {},
   "source": [
    "string = String is a collection of alphabets, words or other characters. They are enclosed within double or single quotes.It is one of the primitive data structures and are the building blocks for data manipulation. Python has a built-in string class named str. Python strings are \"immutable\" which means they cannot be changed after they are created.\n",
    "ex. 'python' is a string.\n",
    "variable = A Python variable is a reserved memory location to store values. These are basically the containers for storing data values. ex. a = 1 + 2 , here 'a' is a variable. "
   ]
  },
  {
   "cell_type": "markdown",
   "id": "fac965d2-de66-4b0f-8cd9-c525ebdb5514",
   "metadata": {},
   "source": [
    "3. Describe three different data types."
   ]
  },
  {
   "cell_type": "markdown",
   "id": "8e69ef07-f9ad-44f3-bb7a-6751ee97dc9d",
   "metadata": {},
   "source": [
    "There are different types of data types in Python. Some built-in Python data types are:\n",
    "\n",
    "1. Numeric data types: int, float, complex.\n",
    "2. String data types: str\n",
    "3. Sequence types: list, tuple, range\n",
    "4. Binary types: bytes, bytearray, memoryview\n",
    "5. Mapping data type: dict\n",
    "6. Boolean type: bool\n",
    "7. Set data types: set, frozenset"
   ]
  },
  {
   "cell_type": "markdown",
   "id": "2277e82e-87bd-4973-ad28-d66697c64e76",
   "metadata": {},
   "source": [
    "4. What is an expression made up of? What do all expressions do?"
   ]
  },
  {
   "cell_type": "markdown",
   "id": "52be8b6a-76f7-4142-80fb-269524f092c7",
   "metadata": {},
   "source": [
    "A combination of operands and operators is called an expression. The expression in Python produces some value or result after being interpreted by the Python interpreter. For ex. + , - , * , / , ** , & , < , > etc.\n",
    "These expression are used to perform some sort of mathematical or non-mathematical operations.\n",
    "For ex. 1. \"kartikay\" + \"garg\" will give us \"kartikaygarg\" . Here this '+' sign will concatenate those two strings.\n",
    "2. 50 + 100 will give us 150. Hence it also performs the mathematical operations."
   ]
  },
  {
   "cell_type": "markdown",
   "id": "5a980456-d164-418b-a372-6a5e4fbb00cf",
   "metadata": {},
   "source": [
    "5. This assignment statements, like spam = 10. What is the difference between an\n",
    "expression and a statement?"
   ]
  },
  {
   "cell_type": "markdown",
   "id": "ed70ef68-c7b8-4de9-9b7d-aef30510c61d",
   "metadata": {},
   "source": [
    "An expression in Python is very different from statements in Python. A statement is not evaluated for some results. It is used for creating variables or for displaying values,  Whereas an expression in Python can contain identifiers, operators, and operands. For ex. x = 50 is a statement whereas y = x + 50 is an expression."
   ]
  },
  {
   "cell_type": "markdown",
   "id": "c71564fc-3d9d-484e-983a-4a4f715a560a",
   "metadata": {},
   "source": [
    "6. After running the following code, what does the variable bacon contain?\n",
    "bacon = 22\n",
    "bacon + 1"
   ]
  },
  {
   "cell_type": "code",
   "execution_count": 8,
   "id": "8ed23148-4262-44e8-ac48-9302338daefb",
   "metadata": {},
   "outputs": [
    {
     "data": {
      "text/plain": [
       "23"
      ]
     },
     "execution_count": 8,
     "metadata": {},
     "output_type": "execute_result"
    }
   ],
   "source": [
    "#lets find out\n",
    "bacon = 22\n",
    "bacon + 1"
   ]
  },
  {
   "cell_type": "markdown",
   "id": "4882305e-422a-4b73-b552-2ba373346c26",
   "metadata": {},
   "source": [
    "7. What should the values of the following two terms be?\n",
    "'spam' + 'spamspam'\n",
    "'spam' * 3"
   ]
  },
  {
   "cell_type": "code",
   "execution_count": 9,
   "id": "61af5427-c587-4acd-a964-a10d3e6f7948",
   "metadata": {},
   "outputs": [
    {
     "data": {
      "text/plain": [
       "'spamspamspam'"
      ]
     },
     "execution_count": 9,
     "metadata": {},
     "output_type": "execute_result"
    }
   ],
   "source": [
    "# lets find out\n",
    "'spam' + 'spamspam'"
   ]
  },
  {
   "cell_type": "code",
   "execution_count": 10,
   "id": "c8bffe1b-52ef-4a93-9b6b-17a8faad34f5",
   "metadata": {},
   "outputs": [
    {
     "data": {
      "text/plain": [
       "'spamspamspam'"
      ]
     },
     "execution_count": 10,
     "metadata": {},
     "output_type": "execute_result"
    }
   ],
   "source": [
    "'spam' * 3"
   ]
  },
  {
   "cell_type": "markdown",
   "id": "914003c9-3b1d-40e1-93d4-3694e693f684",
   "metadata": {},
   "source": [
    "Hence, both will give us the same result."
   ]
  },
  {
   "cell_type": "markdown",
   "id": "d4c25ac7-4d1e-40fa-88df-0a9a0afaf9cd",
   "metadata": {},
   "source": [
    "8. Why is eggs a valid variable name while 100 is invalid?"
   ]
  },
  {
   "cell_type": "markdown",
   "id": "7e15cb21-ca49-4a7d-a1e7-50ab89902e11",
   "metadata": {},
   "source": [
    "Because variable in python can not be started with numeric data type."
   ]
  }
 ],
 "metadata": {
  "kernelspec": {
   "display_name": "Python 3 (ipykernel)",
   "language": "python",
   "name": "python3"
  },
  "language_info": {
   "codemirror_mode": {
    "name": "ipython",
    "version": 3
   },
   "file_extension": ".py",
   "mimetype": "text/x-python",
   "name": "python",
   "nbconvert_exporter": "python",
   "pygments_lexer": "ipython3",
   "version": "3.10.6"
  }
 },
 "nbformat": 4,
 "nbformat_minor": 5
}
