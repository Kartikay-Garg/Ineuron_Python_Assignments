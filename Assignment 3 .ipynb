{
 "cells": [
  {
   "cell_type": "markdown",
   "id": "2d74fc75-e5e0-45a8-a986-a9dd7e181c7a",
   "metadata": {},
   "source": [
    "1. Why are functions advantageous to have in your programs?"
   ]
  },
  {
   "cell_type": "markdown",
   "id": "046018f8-8fb5-46c7-b952-5539750be4f9",
   "metadata": {},
   "source": [
    "Functions reduce the need for duplicate code. This makes programs shorter, easier to read, and easier to update."
   ]
  },
  {
   "cell_type": "markdown",
   "id": "254f042d-f86d-4604-a41d-c8973beacff0",
   "metadata": {},
   "source": [
    "2. When does the code in a function run: when it's specified or when it's called?"
   ]
  },
  {
   "cell_type": "markdown",
   "id": "8c420ba1-a8ec-419a-b023-182ddb2b92cc",
   "metadata": {},
   "source": [
    "The code in the particular function will run when it is called not when it is specified or defined."
   ]
  },
  {
   "cell_type": "markdown",
   "id": "b0da7b05-1bf2-4839-a6a9-6b4cb9945da7",
   "metadata": {},
   "source": [
    "3. What statement creates a function?"
   ]
  },
  {
   "cell_type": "markdown",
   "id": "fea6a6e6-3094-40c5-8e49-c0543d23ac79",
   "metadata": {},
   "source": [
    "The def statement creates a function."
   ]
  },
  {
   "cell_type": "code",
   "execution_count": 2,
   "id": "deab018e-c56c-486b-94a9-34b811a8b40c",
   "metadata": {},
   "outputs": [],
   "source": [
    "def test1(a,b):\n",
    "    return a + b"
   ]
  },
  {
   "cell_type": "markdown",
   "id": "19e4a50f-06c3-4088-ba7a-1c44f92e7d19",
   "metadata": {},
   "source": [
    "4. What is the difference between a function and a function call?"
   ]
  },
  {
   "cell_type": "markdown",
   "id": "4332020f-6b2f-476b-954b-34b6f4f1aa5f",
   "metadata": {},
   "source": [
    "A function consists of the def statement and the code in its def clause.\n",
    "\n",
    "A function call is what moves the program execution into the function, and the function call evaluates to the function's return value."
   ]
  },
  {
   "cell_type": "code",
   "execution_count": 3,
   "id": "b1add97a-92d8-41cf-8ca2-2e45f34f636c",
   "metadata": {},
   "outputs": [],
   "source": [
    "#function\n",
    "def test1(a,b):\n",
    "    return a + b"
   ]
  },
  {
   "cell_type": "code",
   "execution_count": 4,
   "id": "22f08c13-4770-4db9-8691-deb7f5090c10",
   "metadata": {},
   "outputs": [
    {
     "data": {
      "text/plain": [
       "80"
      ]
     },
     "execution_count": 4,
     "metadata": {},
     "output_type": "execute_result"
    }
   ],
   "source": [
    "#function call\n",
    "test1(50,30)"
   ]
  },
  {
   "cell_type": "markdown",
   "id": "5cff050f-acc6-4afe-84d7-6a0aa2dff846",
   "metadata": {},
   "source": [
    "5. How many global scopes are there in a Python program? How many local scopes?"
   ]
  },
  {
   "cell_type": "markdown",
   "id": "3c013aac-14c7-476a-b454-33dd05b32ee9",
   "metadata": {},
   "source": [
    "There is one global scope, and a local scope is created whenever a function is called."
   ]
  },
  {
   "cell_type": "markdown",
   "id": "030dac87-66b9-4134-8de9-50dfa1a53f1d",
   "metadata": {},
   "source": [
    "6. What happens to variables in a local scope when the function call returns?"
   ]
  },
  {
   "cell_type": "markdown",
   "id": "62cef295-edc0-48cc-b9b3-cdb35fa42693",
   "metadata": {},
   "source": [
    "When a function returns, the local scope is destroyed, and all the variables in it are forgotten."
   ]
  },
  {
   "cell_type": "markdown",
   "id": "5146b234-80ba-406d-b55d-75984653c5eb",
   "metadata": {},
   "source": [
    "7. What is the concept of a return value? Is it possible to have a return value in an expression?"
   ]
  },
  {
   "cell_type": "markdown",
   "id": "83b6fdb1-001c-450a-828e-42759ca6fe57",
   "metadata": {},
   "source": [
    "A return value is the value that a function call evaluates to. Like any value, a return value can be used as part of an expression."
   ]
  },
  {
   "cell_type": "markdown",
   "id": "ae0d56ab-c708-43bf-8f45-d09e648987bd",
   "metadata": {},
   "source": [
    "8. If a function does not have a return statement, what is the return value of a call to that function?"
   ]
  },
  {
   "cell_type": "markdown",
   "id": "d7f34e6c-1b2d-405c-bbb4-a80c4aad128a",
   "metadata": {},
   "source": [
    "If there is no return statement for a function, its return value is None."
   ]
  },
  {
   "cell_type": "markdown",
   "id": "6a59a936-82f1-4bfa-9405-fb1e6723a891",
   "metadata": {},
   "source": [
    "9. How do you make a function variable refer to the global variable?"
   ]
  },
  {
   "cell_type": "markdown",
   "id": "b570b9c5-a564-4e79-8e7a-066075bc8990",
   "metadata": {},
   "source": [
    "A global statement will force a variable in a function to refer to the global variable."
   ]
  },
  {
   "cell_type": "markdown",
   "id": "3292580a-8fc8-4fe7-917b-71a43dda6658",
   "metadata": {},
   "source": [
    "10. What is the data type of None?"
   ]
  },
  {
   "cell_type": "markdown",
   "id": "5cee5956-6ba7-447f-8ace-fe90e99e8612",
   "metadata": {},
   "source": [
    "The data type of None is NoneType."
   ]
  },
  {
   "cell_type": "markdown",
   "id": "72297f88-58b4-4417-ae6b-3d2b1f560872",
   "metadata": {},
   "source": [
    "11. What does the sentence import areallyourpetsnamederic do?"
   ]
  },
  {
   "cell_type": "markdown",
   "id": "0917f50f-42df-4059-b430-2fe967c15a7f",
   "metadata": {},
   "source": [
    "That import statement imports a module named areallyourpetsnamederic."
   ]
  },
  {
   "cell_type": "markdown",
   "id": "d6fee1a0-c310-425e-b2aa-337d55d51f63",
   "metadata": {},
   "source": [
    "12. If you had a bacon() feature in a spam module, what would you call it after importing spam?"
   ]
  },
  {
   "cell_type": "code",
   "execution_count": 9,
   "id": "af189531-1457-489f-a806-fb244f146ec8",
   "metadata": {},
   "outputs": [],
   "source": [
    "# import spam \n",
    "# spam.bacon() "
   ]
  },
  {
   "cell_type": "markdown",
   "id": "a13dcfa2-717c-4772-af84-ee588619e1e4",
   "metadata": {},
   "source": [
    "13. What can you do to save a programme from crashing if it encounters an error?"
   ]
  },
  {
   "cell_type": "markdown",
   "id": "1e0ceb62-c3ff-4faf-a85a-b3c4181295a4",
   "metadata": {},
   "source": [
    " We can use try or except clause to save a program from crashing.Python would process all code inside the try and except statement. When it encounters an error, the control is passed to the except block, skipping the code in between."
   ]
  },
  {
   "cell_type": "markdown",
   "id": "dcb30d3b-cde0-4bc9-88e4-34c4811da93a",
   "metadata": {},
   "source": [
    "14. What is the purpose of the try clause? What is the purpose of the except clause?"
   ]
  },
  {
   "cell_type": "markdown",
   "id": "ec55c6de-7dce-434c-b376-42cf4522fd35",
   "metadata": {},
   "source": [
    "The try block lets you test a block of code for errors whereas except block lets you handle the error.Basically Try and Except clause is used to handle the errors within our code. The try block is used to check the code for errors i.e the code inside the try block will execute when there is no error in the program. Whereas the code inside the except block will execute whenever the program encounters some error in the try block."
   ]
  },
  {
   "cell_type": "code",
   "execution_count": null,
   "id": "1d38bf7b-2273-4538-a89b-4d3c6ec709bd",
   "metadata": {},
   "outputs": [],
   "source": []
  }
 ],
 "metadata": {
  "kernelspec": {
   "display_name": "Python 3 (ipykernel)",
   "language": "python",
   "name": "python3"
  },
  "language_info": {
   "codemirror_mode": {
    "name": "ipython",
    "version": 3
   },
   "file_extension": ".py",
   "mimetype": "text/x-python",
   "name": "python",
   "nbconvert_exporter": "python",
   "pygments_lexer": "ipython3",
   "version": "3.10.6"
  }
 },
 "nbformat": 4,
 "nbformat_minor": 5
}
