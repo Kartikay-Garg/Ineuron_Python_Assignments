{
 "cells": [
  {
   "cell_type": "raw",
   "id": "d69acbdc-a5ba-428a-8689-a9eda6b60097",
   "metadata": {},
   "source": [
    "1. What exactly is []?"
   ]
  },
  {
   "cell_type": "markdown",
   "id": "a3252c22-8289-413b-a4c9-156cb0e76ad8",
   "metadata": {},
   "source": [
    "This is the empty list value, which contains no items. This is similar to how ' ' is the empty string value."
   ]
  },
  {
   "cell_type": "raw",
   "id": "bf147fdf-a1f9-466f-ac52-348ab358c7f6",
   "metadata": {},
   "source": [
    "2. In a list of values stored in a variable called spam, how would you assign the value 'hello' as the\n",
    "third value? (Assume [2, 4, 6, 8, 10] are in spam.)"
   ]
  },
  {
   "cell_type": "code",
   "execution_count": 1,
   "id": "07c5bb31-9844-420c-8278-fccffb9b43cf",
   "metadata": {},
   "outputs": [],
   "source": [
    "spam = [2,4,6,8,10]"
   ]
  },
  {
   "cell_type": "code",
   "execution_count": 2,
   "id": "5a705f3b-83b8-4ce0-8fe3-a99e2d6c3996",
   "metadata": {},
   "outputs": [],
   "source": [
    "spam[2] = 'hello'"
   ]
  },
  {
   "cell_type": "code",
   "execution_count": 3,
   "id": "b6de9965-93a1-4e6c-a7a5-e1095d5473b0",
   "metadata": {},
   "outputs": [
    {
     "data": {
      "text/plain": [
       "[2, 4, 'hello', 8, 10]"
      ]
     },
     "execution_count": 3,
     "metadata": {},
     "output_type": "execute_result"
    }
   ],
   "source": [
    "spam"
   ]
  },
  {
   "cell_type": "raw",
   "id": "651c9548-ea58-47f2-a75d-c082ed625293",
   "metadata": {},
   "source": [
    " spam = ['a','b','c','d']"
   ]
  },
  {
   "cell_type": "markdown",
   "id": "d0891588-77d4-401f-b30e-17f4e68f69d0",
   "metadata": {},
   "source": [
    "3. What is the value of spam[int(int(&#39;3&#39; * 2) / 11)]?"
   ]
  },
  {
   "cell_type": "code",
   "execution_count": 4,
   "id": "76ea185f-2c89-4ad8-a63f-da651cbd09b1",
   "metadata": {},
   "outputs": [
    {
     "data": {
      "text/plain": [
       "'d'"
      ]
     },
     "execution_count": 4,
     "metadata": {},
     "output_type": "execute_result"
    }
   ],
   "source": [
    "spam = ['a','b','c','d']\n",
    "spam[int(int('3'*2)/11)]    "
   ]
  },
  {
   "cell_type": "markdown",
   "id": "e097d188-3b70-4040-a81d-0777a33068e4",
   "metadata": {},
   "source": [
    "4. What is the value of spam[-1]?"
   ]
  },
  {
   "cell_type": "code",
   "execution_count": 5,
   "id": "b1350c3c-9a78-4a7d-a4cf-0e95f8075b99",
   "metadata": {},
   "outputs": [
    {
     "data": {
      "text/plain": [
       "'d'"
      ]
     },
     "execution_count": 5,
     "metadata": {},
     "output_type": "execute_result"
    }
   ],
   "source": [
    "spam[-1]"
   ]
  },
  {
   "cell_type": "markdown",
   "id": "c0254f86-b328-4def-8602-43b632ae8f76",
   "metadata": {},
   "source": [
    "5. What is the value of spam[:2]?"
   ]
  },
  {
   "cell_type": "code",
   "execution_count": 6,
   "id": "7d989e4e-c6c2-4d8a-9f13-b67f3329f716",
   "metadata": {},
   "outputs": [
    {
     "data": {
      "text/plain": [
       "['a', 'b']"
      ]
     },
     "execution_count": 6,
     "metadata": {},
     "output_type": "execute_result"
    }
   ],
   "source": [
    "spam[:2]"
   ]
  },
  {
   "cell_type": "markdown",
   "id": "1e828db8-beaa-4461-9eca-02df3259f9f1",
   "metadata": {},
   "source": [
    "Let&#39;s pretend bacon has the list [3.14, &#39;cat,&#39; 11, &#39;cat,&#39; True] for the next three questions."
   ]
  },
  {
   "cell_type": "markdown",
   "id": "fe79f98c-459e-43e3-ba4c-aed7ef4251f8",
   "metadata": {},
   "source": [
    "6. What is the value of bacon.index(&#39;cat&#39;)?"
   ]
  },
  {
   "cell_type": "code",
   "execution_count": 7,
   "id": "0b88f7e2-f34b-467f-a10a-9f0132cc6693",
   "metadata": {},
   "outputs": [],
   "source": [
    "bacon = [3.14,'cat',11,'cat',True]"
   ]
  },
  {
   "cell_type": "code",
   "execution_count": 8,
   "id": "882d5dd2-1d8b-42e2-acdb-5ffe0f97f2cd",
   "metadata": {},
   "outputs": [
    {
     "data": {
      "text/plain": [
       "1"
      ]
     },
     "execution_count": 8,
     "metadata": {},
     "output_type": "execute_result"
    }
   ],
   "source": [
    "bacon.index('cat')"
   ]
  },
  {
   "cell_type": "markdown",
   "id": "8c96c380-4156-4fd1-b40d-5671bba70f62",
   "metadata": {},
   "source": [
    "7. How does bacon.append(99) change the look of the list value in bacon?"
   ]
  },
  {
   "cell_type": "code",
   "execution_count": 9,
   "id": "78ccb8e9-724c-4e07-a9e0-d7419d44de23",
   "metadata": {},
   "outputs": [],
   "source": [
    "bacon.append(99)"
   ]
  },
  {
   "cell_type": "code",
   "execution_count": 10,
   "id": "3d7807cf-02f1-4f59-9a11-571ebc496a9b",
   "metadata": {},
   "outputs": [
    {
     "data": {
      "text/plain": [
       "[3.14, 'cat', 11, 'cat', True, 99]"
      ]
     },
     "execution_count": 10,
     "metadata": {},
     "output_type": "execute_result"
    }
   ],
   "source": [
    "bacon"
   ]
  },
  {
   "cell_type": "markdown",
   "id": "446a375d-e4b6-4e93-ab23-4683da67dbdb",
   "metadata": {},
   "source": [
    "8. How does bacon.remove(&#39;cat&#39;) change the look of the list in bacon?"
   ]
  },
  {
   "cell_type": "code",
   "execution_count": 11,
   "id": "eedb76dc-eb1f-40d7-a427-b3df9d9f981c",
   "metadata": {},
   "outputs": [],
   "source": [
    "bacon.remove('cat')"
   ]
  },
  {
   "cell_type": "code",
   "execution_count": 12,
   "id": "078f57cc-e915-46b0-a772-bb1920ca5374",
   "metadata": {},
   "outputs": [
    {
     "data": {
      "text/plain": [
       "[3.14, 11, 'cat', True, 99]"
      ]
     },
     "execution_count": 12,
     "metadata": {},
     "output_type": "execute_result"
    }
   ],
   "source": [
    "bacon"
   ]
  },
  {
   "cell_type": "markdown",
   "id": "d5baaafd-b08a-4f61-8124-f141a157e1cc",
   "metadata": {},
   "source": [
    "9. What are the list concatenation and list replication operators?"
   ]
  },
  {
   "cell_type": "code",
   "execution_count": 13,
   "id": "58671156-66c9-4f8b-ae14-c8166f43d44c",
   "metadata": {},
   "outputs": [],
   "source": [
    "a = [\"a\",\"b\",\"c\",\"d\",\"e\"]\n",
    "b = [\"f\",\"g\",\"h\",\"i\",\"j\"]"
   ]
  },
  {
   "cell_type": "code",
   "execution_count": 14,
   "id": "f3b1f352-e729-4a9e-9c9c-0f8f7a173d53",
   "metadata": {},
   "outputs": [
    {
     "data": {
      "text/plain": [
       "['a', 'b', 'c', 'd', 'e', 'f', 'g', 'h', 'i', 'j']"
      ]
     },
     "execution_count": 14,
     "metadata": {},
     "output_type": "execute_result"
    }
   ],
   "source": [
    "a + b #list concatenation"
   ]
  },
  {
   "cell_type": "code",
   "execution_count": 15,
   "id": "402eec9f-bec2-4695-ba2a-4b19f68cf85f",
   "metadata": {},
   "outputs": [
    {
     "data": {
      "text/plain": [
       "['a', 'b', 'c', 'd', 'e', 'a', 'b', 'c', 'd', 'e', 'a', 'b', 'c', 'd', 'e']"
      ]
     },
     "execution_count": 15,
     "metadata": {},
     "output_type": "execute_result"
    }
   ],
   "source": [
    "a * 3 #list replication"
   ]
  },
  {
   "cell_type": "markdown",
   "id": "04c2880c-c4fc-467e-af70-708587d39d23",
   "metadata": {},
   "source": [
    "10. What is difference between the list methods append() and insert()?"
   ]
  },
  {
   "cell_type": "code",
   "execution_count": 16,
   "id": "3b1af5b0-19ab-4909-a6c6-836d4f9c06e2",
   "metadata": {},
   "outputs": [],
   "source": [
    "l = ['a','b','c','d','e','f']\n",
    "l1 = []\n",
    "l.append('g')"
   ]
  },
  {
   "cell_type": "code",
   "execution_count": 17,
   "id": "b4016b32-067c-4c1e-9ca8-6757106b99c7",
   "metadata": {},
   "outputs": [
    {
     "data": {
      "text/plain": [
       "['a', 'b', 'c', 'd', 'e', 'f', 'g']"
      ]
     },
     "execution_count": 17,
     "metadata": {},
     "output_type": "execute_result"
    }
   ],
   "source": [
    "l"
   ]
  },
  {
   "cell_type": "code",
   "execution_count": 18,
   "id": "af16a517-5a07-4041-b933-4fdd1768a844",
   "metadata": {},
   "outputs": [],
   "source": [
    "l.insert(2,'h')"
   ]
  },
  {
   "cell_type": "code",
   "execution_count": 19,
   "id": "7e4ecaf3-ff0b-4a1a-b0ea-97bbef23e26f",
   "metadata": {},
   "outputs": [
    {
     "data": {
      "text/plain": [
       "['a', 'b', 'h', 'c', 'd', 'e', 'f', 'g']"
      ]
     },
     "execution_count": 19,
     "metadata": {},
     "output_type": "execute_result"
    }
   ],
   "source": [
    "l"
   ]
  },
  {
   "cell_type": "markdown",
   "id": "0263dd3d-4637-4e69-b60a-a83200930f85",
   "metadata": {},
   "source": [
    "11. What are the two methods for removing items from a list?"
   ]
  },
  {
   "cell_type": "code",
   "execution_count": 20,
   "id": "fadc634a-a079-4475-aec2-b1a4212645d3",
   "metadata": {},
   "outputs": [],
   "source": [
    "l = [1,2,3,4,'kartikay','garg',4+5j,6.43]"
   ]
  },
  {
   "cell_type": "code",
   "execution_count": 21,
   "id": "b4173e2f-580b-4dd9-b5b3-0b31f923e0eb",
   "metadata": {},
   "outputs": [],
   "source": [
    "l.remove(4) #1st method"
   ]
  },
  {
   "cell_type": "code",
   "execution_count": 22,
   "id": "db8c9196-a53c-4c9b-b6de-b7d8f6634c57",
   "metadata": {},
   "outputs": [
    {
     "data": {
      "text/plain": [
       "[1, 2, 3, 'kartikay', 'garg', (4+5j), 6.43]"
      ]
     },
     "execution_count": 22,
     "metadata": {},
     "output_type": "execute_result"
    }
   ],
   "source": [
    "l"
   ]
  },
  {
   "cell_type": "code",
   "execution_count": 23,
   "id": "e20e2197-589b-422f-88c5-1be539386dbc",
   "metadata": {},
   "outputs": [
    {
     "data": {
      "text/plain": [
       "3"
      ]
     },
     "execution_count": 23,
     "metadata": {},
     "output_type": "execute_result"
    }
   ],
   "source": [
    "l.pop(2) #2nd method"
   ]
  },
  {
   "cell_type": "code",
   "execution_count": 24,
   "id": "aa7b62ff-0bda-434f-8bf8-d7ec1edf59cb",
   "metadata": {},
   "outputs": [
    {
     "data": {
      "text/plain": [
       "[1, 2, 'kartikay', 'garg', (4+5j), 6.43]"
      ]
     },
     "execution_count": 24,
     "metadata": {},
     "output_type": "execute_result"
    }
   ],
   "source": [
    "l"
   ]
  },
  {
   "cell_type": "raw",
   "id": "b8fb2f66-ece9-48b9-95d3-9e93448d924d",
   "metadata": {},
   "source": [
    "12. Describe how list values and string values are identical."
   ]
  },
  {
   "cell_type": "markdown",
   "id": "6fbc5cca-0883-4cc7-bd43-379e7f19123e",
   "metadata": {},
   "source": [
    "A string is a sequence of characters between single or double quotes. A list is a sequence of items, where each item could be anything (an integer, a float, a string, etc). Both strings and lists have lengths: a string's length is the number of characters in the string; a list's length is the number of items in the list.Each character in a string as well as each item in a list has a position, also called an index."
   ]
  },
  {
   "cell_type": "markdown",
   "id": "2222f345-0892-4d5f-81ba-13e2de9c43a7",
   "metadata": {},
   "source": [
    "13. What&#39;s the difference between tuples and lists?"
   ]
  },
  {
   "cell_type": "raw",
   "id": "7b250606-0202-49c8-a591-0d45e45568ef",
   "metadata": {},
   "source": [
    "The primary difference between tuples and lists is that tuples are immutable as opposed to lists which are mutable. Therefore, it is possible to change a list but not a tuple.The contents of a tuple cannot change once they have been created in Python due to the immutability of tuples."
   ]
  },
  {
   "cell_type": "markdown",
   "id": "188f9593-6b12-4651-ba89-f8221b2424d0",
   "metadata": {},
   "source": [
    "14. How do you type a tuple value that only contains the integer 42?"
   ]
  },
  {
   "cell_type": "code",
   "execution_count": 33,
   "id": "efc0bb0e-98fc-4fdf-91e6-87748e317247",
   "metadata": {},
   "outputs": [],
   "source": [
    "t = (42,)"
   ]
  },
  {
   "cell_type": "code",
   "execution_count": 34,
   "id": "47f4c18d-dfa6-4b1a-9a63-808341ccbdad",
   "metadata": {},
   "outputs": [
    {
     "data": {
      "text/plain": [
       "tuple"
      ]
     },
     "execution_count": 34,
     "metadata": {},
     "output_type": "execute_result"
    }
   ],
   "source": [
    "type(t)"
   ]
  },
  {
   "cell_type": "markdown",
   "id": "dc41b44d-0b4f-42de-87ae-98c098f74367",
   "metadata": {},
   "source": [
    "15. How do you get a list value&#39;s tuple form? How do you get a tuple value&#39;s list form?"
   ]
  },
  {
   "cell_type": "code",
   "execution_count": 35,
   "id": "462ae2c6-1207-46f3-ae20-8e45f66940d3",
   "metadata": {},
   "outputs": [],
   "source": [
    "t = (1,2,3,4,5,[23,35,55,76,79,54,647,68])"
   ]
  },
  {
   "cell_type": "code",
   "execution_count": 36,
   "id": "5ab09d3b-bfd0-4515-8c33-9527a67854d4",
   "metadata": {},
   "outputs": [
    {
     "data": {
      "text/plain": [
       "tuple"
      ]
     },
     "execution_count": 36,
     "metadata": {},
     "output_type": "execute_result"
    }
   ],
   "source": [
    "type(t)"
   ]
  },
  {
   "cell_type": "code",
   "execution_count": 37,
   "id": "704b4585-95c9-4138-a540-3578cf520fab",
   "metadata": {},
   "outputs": [],
   "source": [
    "l = [1,2,3,4,5,6,(12,34,56,45,78,65,2,484,15,15,45)]"
   ]
  },
  {
   "cell_type": "code",
   "execution_count": 38,
   "id": "5f90f60a-f4ad-4b59-8e7d-b7d691cfae95",
   "metadata": {},
   "outputs": [
    {
     "data": {
      "text/plain": [
       "list"
      ]
     },
     "execution_count": 38,
     "metadata": {},
     "output_type": "execute_result"
    }
   ],
   "source": [
    "type(l)"
   ]
  },
  {
   "cell_type": "markdown",
   "id": "348ae8b0-efd6-405f-96db-aed401238c8f",
   "metadata": {},
   "source": [
    "16. Variables that &quot;contain&quot; list values are not necessarily lists themselves. Instead, what do they\n",
    "contain?"
   ]
  },
  {
   "cell_type": "raw",
   "id": "f4649628-f081-4de7-8dae-dc33404cba01",
   "metadata": {},
   "source": [
    "Variables will contain references to list values rather than list values themselves. But for strings and integer values, variables simply contain the string or integer value"
   ]
  },
  {
   "cell_type": "markdown",
   "id": "5afb379b-d731-4735-8612-ae8f8a2e437b",
   "metadata": {},
   "source": [
    "17. How do you distinguish between copy.copy() and copy.deepcopy()?"
   ]
  },
  {
   "cell_type": "markdown",
   "id": "09bbdf4f-a65a-4d4c-a5c3-0328592be044",
   "metadata": {},
   "source": [
    "A deep copy creates a new compound object before inserting copies of the items found in the original into it in a recursive manner. It means first constructing a new collection object and then recursively populating it with copies of the child objects found in the original. In the case of deep copy, a copy of the object is copied into another object. It means that any changes made to a copy of the object do not reflect in the original object.\n",
    "\n",
    "A shallow copy creates a new compound object and then references the objects contained in the original within it, which means it constructs a new collection object and then populates it with references to the child objects found in the original. The copying process does not recurse and therefore won’t create copies of the child objects themselves. In the case of shallow copy, a reference of an object is copied into another object. It means that any changes made to a copy of an object do reflect in the original object. In python, this is implemented using the “copy()” function."
   ]
  }
 ],
 "metadata": {
  "kernelspec": {
   "display_name": "Python 3 (ipykernel)",
   "language": "python",
   "name": "python3"
  },
  "language_info": {
   "codemirror_mode": {
    "name": "ipython",
    "version": 3
   },
   "file_extension": ".py",
   "mimetype": "text/x-python",
   "name": "python",
   "nbconvert_exporter": "python",
   "pygments_lexer": "ipython3",
   "version": "3.10.6"
  }
 },
 "nbformat": 4,
 "nbformat_minor": 5
}
