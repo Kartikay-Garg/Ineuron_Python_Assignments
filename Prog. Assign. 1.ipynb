{
 "cells": [
  {
   "cell_type": "markdown",
   "id": "d9178cf9-0df7-4c13-be8a-2f74d5f5aae4",
   "metadata": {},
   "source": [
    "1. Write a Python program to print &quot;Hello Python&quot;?"
   ]
  },
  {
   "cell_type": "code",
   "execution_count": 1,
   "id": "ed2ed0d1-ace6-488c-9da1-802581823323",
   "metadata": {},
   "outputs": [
    {
     "name": "stdout",
     "output_type": "stream",
     "text": [
      "\"Hello Python\"\n"
     ]
    }
   ],
   "source": [
    "print('\"Hello Python\"')"
   ]
  },
  {
   "cell_type": "markdown",
   "id": "5376aea5-e15a-41b2-9659-8062a116a2a6",
   "metadata": {},
   "source": [
    "2. Write a Python program to do arithmetical operations addition and division.?"
   ]
  },
  {
   "cell_type": "code",
   "execution_count": 2,
   "id": "06e28db0-0903-444c-a8b2-d00073034e4b",
   "metadata": {},
   "outputs": [
    {
     "name": "stdout",
     "output_type": "stream",
     "text": [
      "Sum of both the numbers would be: 25 and Division of them would be: 4.0\n"
     ]
    }
   ],
   "source": [
    "a = 20\n",
    "b = 5\n",
    "addition = a + b\n",
    "division = a / b\n",
    "print(f\"Sum of both the numbers would be: {addition} and Division of them would be: {division}\")"
   ]
  },
  {
   "cell_type": "markdown",
   "id": "83fea7bf-7b2d-4556-b7bd-99e8be42f207",
   "metadata": {},
   "source": [
    "3. Write a Python program to find the area of a triangle?"
   ]
  },
  {
   "cell_type": "code",
   "execution_count": 3,
   "id": "f8973b18-c5e1-45ae-ae95-80950cb1c84f",
   "metadata": {},
   "outputs": [
    {
     "name": "stdin",
     "output_type": "stream",
     "text": [
      "Enter First side:  6\n",
      "Enter Second side:  8\n",
      "Enter Third side:  9\n"
     ]
    },
    {
     "name": "stdout",
     "output_type": "stream",
     "text": [
      "area of triangle will be :  23.53\n"
     ]
    }
   ],
   "source": [
    "a = int(input(\"Enter First side: \"))\n",
    "b = int(input(\"Enter Second side: \"))\n",
    "c = int(input(\"Enter Third side: \"))\n",
    "s = (a + b + c) / 2 #semi-perimeter\n",
    "actual_area = ((s*(s-a)*(s-b)*(s-c)) ** 0.5)\n",
    "simplified_area = float(\"{:.2f}\".format(actual_area))\n",
    "print(\"area of triangle will be : \", simplified_area)"
   ]
  },
  {
   "cell_type": "markdown",
   "id": "39d9b892-527f-49d1-8ed3-ae517119d92f",
   "metadata": {},
   "source": [
    "4. Write a Python program to swap two variables?"
   ]
  },
  {
   "cell_type": "code",
   "execution_count": 4,
   "id": "6d8a6ff8-4083-416b-b99c-07a85d51028f",
   "metadata": {},
   "outputs": [
    {
     "name": "stdin",
     "output_type": "stream",
     "text": [
      " 5\n",
      " 8\n"
     ]
    },
    {
     "name": "stdout",
     "output_type": "stream",
     "text": [
      " a: 8 and b: 5\n"
     ]
    }
   ],
   "source": [
    "a = input()\n",
    "b = input()\n",
    "\n",
    "c = a\n",
    "a = b\n",
    "b = c\n",
    "\n",
    "print(f\" a: {a} and b: {b}\")"
   ]
  },
  {
   "cell_type": "markdown",
   "id": "8eeb5760-7927-474d-8b9b-607c65ff95e1",
   "metadata": {},
   "source": [
    "5. Write a Python program to generate a random number?"
   ]
  },
  {
   "cell_type": "code",
   "execution_count": 5,
   "id": "37b225af-f02b-446b-bcc0-a1bf342a4c2c",
   "metadata": {},
   "outputs": [
    {
     "name": "stdout",
     "output_type": "stream",
     "text": [
      "0.2199767992037973\n"
     ]
    }
   ],
   "source": [
    "import random\n",
    "r = (random.random())\n",
    "print(r)"
   ]
  }
 ],
 "metadata": {
  "kernelspec": {
   "display_name": "Python 3 (ipykernel)",
   "language": "python",
   "name": "python3"
  },
  "language_info": {
   "codemirror_mode": {
    "name": "ipython",
    "version": 3
   },
   "file_extension": ".py",
   "mimetype": "text/x-python",
   "name": "python",
   "nbconvert_exporter": "python",
   "pygments_lexer": "ipython3",
   "version": "3.10.6"
  }
 },
 "nbformat": 4,
 "nbformat_minor": 5
}
