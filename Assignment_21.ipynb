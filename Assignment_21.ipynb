{
 "cells": [
  {
   "cell_type": "markdown",
   "id": "efcc0543-1101-47ad-a00f-3a11a52b290a",
   "metadata": {},
   "source": [
    "### 1. Add the current date to the text file today.txt as a string."
   ]
  },
  {
   "cell_type": "code",
   "execution_count": 1,
   "id": "91beb5d5-affc-4565-b9ab-bc2e8dbfad7a",
   "metadata": {},
   "outputs": [
    {
     "name": "stdout",
     "output_type": "stream",
     "text": [
      "03-05-2023\n"
     ]
    }
   ],
   "source": [
    "import datetime\n",
    "# Code to Add current date to the today.txt file\n",
    "file = open('today.txt','w')\n",
    "file.write(datetime.datetime.now().strftime(\"%d-%m-%Y\"))\n",
    "file.close()\n",
    "# Code to Read current date from today.txt file\n",
    "file = open('today.txt','r')\n",
    "print(file.read())\n",
    "file.close()"
   ]
  },
  {
   "cell_type": "markdown",
   "id": "f6d449b7-60b5-44d1-96d1-7d0879fbe729",
   "metadata": {},
   "source": [
    "### 2. Read the text file today.txt into the string today_string"
   ]
  },
  {
   "cell_type": "code",
   "execution_count": 2,
   "id": "278abd13-1da9-45aa-b5fe-b5fa2aed763b",
   "metadata": {},
   "outputs": [
    {
     "name": "stdout",
     "output_type": "stream",
     "text": [
      "03-05-2023\n"
     ]
    }
   ],
   "source": [
    "file = open('today.txt','r')\n",
    "today_string = file.read()\n",
    "print(today_string)"
   ]
  },
  {
   "cell_type": "markdown",
   "id": "7c50bf13-f51b-48e1-8ed4-df915f15ca2a",
   "metadata": {},
   "source": [
    "### 3. Parse the date from today_string."
   ]
  },
  {
   "cell_type": "code",
   "execution_count": 3,
   "id": "dc368ead-5b82-428e-b071-49955160789f",
   "metadata": {},
   "outputs": [
    {
     "name": "stdout",
     "output_type": "stream",
     "text": [
      "2023-05-03 00:00:00\n"
     ]
    }
   ],
   "source": [
    "from datetime import datetime\n",
    "parsed_data = datetime.strptime(today_string, '%d-%m-%Y')\n",
    "print(parsed_data)"
   ]
  },
  {
   "cell_type": "markdown",
   "id": "06df4d92-7894-4ec4-8d45-5a5abdff5497",
   "metadata": {},
   "source": [
    "### 4. List the files in your current directory"
   ]
  },
  {
   "cell_type": "code",
   "execution_count": 4,
   "id": "e7dc7cfa-ae26-4a4c-9cc2-13e05af59f1b",
   "metadata": {},
   "outputs": [
    {
     "name": "stdout",
     "output_type": "stream",
     "text": [
      "Asssignment_12.ipynb\n",
      "Assignment_15.ipynb\n",
      "test.txt\n",
      "Assignment_14.ipynb\n",
      "Assignment_10.ipynb\n",
      "Assignment 5.ipynb\n",
      "Assignment_21.ipynb\n",
      "Assignment_13.ipynb\n",
      "Assignment_9.ipynb\n",
      "Assignment_20.ipynb\n",
      "Assignment_7.ipynb\n",
      "prg_assign_5.ipynb\n",
      "Assignment_11.ipynb\n",
      "Assignment_8.ipynb\n",
      "Assignment_19.ipynb\n",
      "Assignment 6.ipynb\n",
      "Assignment_16.ipynb\n",
      "books.db\n",
      "Prg_assign_4.ipynb\n",
      "Assignment_17.ipynb\n",
      "today.txt\n",
      "books.csv\n",
      "packed-refs\n",
      "HEAD\n",
      "index\n",
      "config\n",
      "description\n",
      "HEAD\n",
      "main\n",
      "HEAD\n",
      "exclude\n",
      "pack-290036e657c294196be1b61a981e44da145e2135.pack\n",
      "pack-290036e657c294196be1b61a981e44da145e2135.idx\n",
      "pre-push.sample\n",
      "prepare-commit-msg.sample\n",
      "applypatch-msg.sample\n",
      "pre-applypatch.sample\n",
      "commit-msg.sample\n",
      "pre-rebase.sample\n",
      "pre-receive.sample\n",
      "update.sample\n",
      "fsmonitor-watchman.sample\n",
      "pre-merge-commit.sample\n",
      "pre-commit.sample\n",
      "push-to-checkout.sample\n",
      "post-update.sample\n",
      "main\n",
      "HEAD\n",
      "zoo.cpython-310.pyc\n",
      "Prg_assign_4-checkpoint.ipynb\n",
      "books-checkpoint.csv\n",
      "Assignment_20-checkpoint.ipynb\n",
      "Assignment_9-checkpoint.ipynb\n",
      "Asssignment_12-checkpoint.ipynb\n",
      "Assignment_13-checkpoint.ipynb\n",
      "Assignment_15-checkpoint.ipynb\n",
      "Assignment_7-checkpoint.ipynb\n",
      "prg_assign_5-checkpoint.ipynb\n",
      "Assignment_19-checkpoint.ipynb\n",
      "Assignment_21-checkpoint.ipynb\n",
      "Assignment_11-checkpoint.ipynb\n",
      "Assignment_17-checkpoint.ipynb\n",
      "Assignment_10-checkpoint.ipynb\n",
      "Assignment 5-checkpoint.ipynb\n",
      "test-checkpoint.txt\n",
      "Assignment_8-checkpoint.ipynb\n",
      "Assignment_14-checkpoint.ipynb\n",
      "Assignment_16-checkpoint.ipynb\n",
      "Assignment 6-checkpoint.ipynb\n"
     ]
    }
   ],
   "source": [
    "import os\n",
    "for folders, subfolders, files in os.walk(os.getcwd()):\n",
    "    for file in files:\n",
    "        print(file)"
   ]
  },
  {
   "cell_type": "markdown",
   "id": "37179975-3734-42ff-a55e-18781bf3a6e9",
   "metadata": {},
   "source": [
    "### 5. Create a list of all of the files in your parent directory (minimum five files should be available)."
   ]
  },
  {
   "cell_type": "code",
   "execution_count": 5,
   "id": "8d894b80-d5ae-4b43-9ed3-300010c3d935",
   "metadata": {},
   "outputs": [
    {
     "data": {
      "text/plain": [
       "['Asssignment_12.ipynb',\n",
       " 'Assignment_15.ipynb',\n",
       " 'test.txt',\n",
       " 'Assignment_14.ipynb',\n",
       " 'Assignment_10.ipynb',\n",
       " 'Assignment 5.ipynb',\n",
       " 'Assignment_21.ipynb',\n",
       " '.git',\n",
       " 'Assignment_13.ipynb',\n",
       " 'Assignment_9.ipynb',\n",
       " 'Assignment_20.ipynb',\n",
       " 'Assignment_7.ipynb',\n",
       " 'prg_assign_5.ipynb',\n",
       " 'Assignment_11.ipynb',\n",
       " 'Assignment_8.ipynb',\n",
       " 'Assignment_19.ipynb',\n",
       " 'Assignment 6.ipynb',\n",
       " 'Assignment_16.ipynb',\n",
       " '__pycache__',\n",
       " 'books.db',\n",
       " 'Prg_assign_4.ipynb',\n",
       " 'Assignment_17.ipynb',\n",
       " '.ipynb_checkpoints',\n",
       " 'today.txt',\n",
       " 'books.csv']"
      ]
     },
     "execution_count": 5,
     "metadata": {},
     "output_type": "execute_result"
    }
   ],
   "source": [
    "import os \n",
    "os.listdir()"
   ]
  },
  {
   "cell_type": "markdown",
   "id": "3d881606-4ea2-4aca-9e3f-9cdd019b0202",
   "metadata": {},
   "source": [
    "### 6. Use multiprocessing to create three separate processes. Make each one wait a random number of seconds between one and five, print the current time, and then exit."
   ]
  },
  {
   "cell_type": "code",
   "execution_count": 6,
   "id": "8cfaf02c-e3fc-4cd0-9d65-d5f2b700675b",
   "metadata": {},
   "outputs": [
    {
     "name": "stdout",
     "output_type": "stream",
     "text": [
      "Proc_one_Starttime -> 2023-05-03 08:28:46.014473\n",
      "Proc_two_Starttime -> 2023-05-03 08:28:46.018127\n",
      "Proc_two_Starttime -> 2023-05-03 08:28:46.023313\n",
      "Proc_one_Endtime -> 2023-05-03 08:28:50.020105\n",
      "Proc_two_Endtime -> 2023-05-03 08:28:50.027776\n",
      "Proc_two_Endtime -> 2023-05-03 08:28:51.030144\n"
     ]
    }
   ],
   "source": [
    "import multiprocessing\n",
    "import time \n",
    "import random\n",
    "import datetime\n",
    "\n",
    "def procOne():\n",
    "    print(f'Proc_one_Starttime -> {datetime.datetime.now()}')\n",
    "    time.sleep(random.randint(1,5))\n",
    "    print(f'Proc_one_Endtime -> {datetime.datetime.now()}')\n",
    "    \n",
    "def procTwo():\n",
    "    print(f'Proc_two_Starttime -> {datetime.datetime.now()}')\n",
    "    time.sleep(random.randint(1,5))\n",
    "    print(f'Proc_two_Endtime -> {datetime.datetime.now()}')\n",
    "\n",
    "def procThree():\n",
    "    print(f'Proc_two_Starttime -> {datetime.datetime.now()}')\n",
    "    time.sleep(random.randint(1,5))\n",
    "    print(f'Proc_two_Endtime -> {datetime.datetime.now()}')\n",
    "    \n",
    "if __name__ == \"__main__\":    \n",
    "    p1 = multiprocessing.Process(target=procOne)\n",
    "    p2 = multiprocessing.Process(target=procTwo)\n",
    "    p3 = multiprocessing.Process(target=procThree)\n",
    "\n",
    "    p1.start()\n",
    "    p2.start()\n",
    "    p3.start()\n",
    "\n",
    "    p1.join()\n",
    "    p2.join()\n",
    "    p3.join()"
   ]
  },
  {
   "cell_type": "markdown",
   "id": "5846aabb-7899-4fbf-9b30-11e2048bcc09",
   "metadata": {},
   "source": [
    "### 7. Create a date object of your day of birth."
   ]
  },
  {
   "cell_type": "code",
   "execution_count": 7,
   "id": "e15a5f94-a852-4f5b-9466-7facec3c4569",
   "metadata": {},
   "outputs": [
    {
     "name": "stdout",
     "output_type": "stream",
     "text": [
      "1997-08-28 00:00:00 <class 'datetime.datetime'>\n"
     ]
    }
   ],
   "source": [
    "from datetime import datetime\n",
    "my_dob = datetime.strptime('28/08/1997','%d/%m/%Y')\n",
    "print(my_dob, type(my_dob))"
   ]
  },
  {
   "cell_type": "markdown",
   "id": "807cfeb4-19d4-4d59-832a-a878872574e4",
   "metadata": {},
   "source": [
    "### 8. What day of the week was your day of birth?"
   ]
  },
  {
   "cell_type": "code",
   "execution_count": 8,
   "id": "e515ab55-eb5a-4e7d-918d-8da7fa2d9ca4",
   "metadata": {},
   "outputs": [
    {
     "data": {
      "text/plain": [
       "'Thursday'"
      ]
     },
     "execution_count": 8,
     "metadata": {},
     "output_type": "execute_result"
    }
   ],
   "source": [
    "from datetime import datetime\n",
    "my_dob = datetime(1997,8,28)\n",
    "my_dob.strftime(\"%A\")"
   ]
  },
  {
   "cell_type": "markdown",
   "id": "50ef1fbf-614b-4d4c-a4f4-2f9dc9a1bfb9",
   "metadata": {},
   "source": [
    "### 9. When will you be (or when were you) 10,000 days old?"
   ]
  },
  {
   "cell_type": "code",
   "execution_count": 9,
   "id": "f7f34ee0-d0b7-44e9-a170-1315ee6e6441",
   "metadata": {},
   "outputs": [
    {
     "data": {
      "text/plain": [
       "datetime.datetime(1970, 4, 12, 0, 0)"
      ]
     },
     "execution_count": 9,
     "metadata": {},
     "output_type": "execute_result"
    }
   ],
   "source": [
    "from datetime import datetime, timedelta\n",
    "my_dob = datetime.strptime(\"28/08/1997\",'%d/%m/%Y')\n",
    "future_date = my_dob-timedelta(10000)\n",
    "future_date"
   ]
  },
  {
   "cell_type": "code",
   "execution_count": null,
   "id": "4394789e-da10-48dd-ae9c-0e69b75f2134",
   "metadata": {},
   "outputs": [],
   "source": []
  }
 ],
 "metadata": {
  "kernelspec": {
   "display_name": "Python 3 (ipykernel)",
   "language": "python",
   "name": "python3"
  },
  "language_info": {
   "codemirror_mode": {
    "name": "ipython",
    "version": 3
   },
   "file_extension": ".py",
   "mimetype": "text/x-python",
   "name": "python",
   "nbconvert_exporter": "python",
   "pygments_lexer": "ipython3",
   "version": "3.10.6"
  }
 },
 "nbformat": 4,
 "nbformat_minor": 5
}
