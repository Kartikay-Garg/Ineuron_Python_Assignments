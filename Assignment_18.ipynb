{
 "cells": [
  {
   "cell_type": "code",
   "execution_count": null,
   "id": "36b4abe2-ac5c-47a9-bec0-e09692995cb2",
   "metadata": {},
   "outputs": [],
   "source": [
    "!type zoo.py"
   ]
  },
  {
   "cell_type": "markdown",
   "id": "be92f9a7-e728-4bcb-aa92-acffa694fd78",
   "metadata": {},
   "source": [
    "1. Create a zoo.py file first. Define the hours() function, which prints the string 'Open 9-5 daily'. Then, use the interactive interpreter to import the zoo module and call its hours() function."
   ]
  },
  {
   "cell_type": "code",
   "execution_count": null,
   "id": "7686854f-d9ea-44bc-8e08-88a38d17b7f0",
   "metadata": {},
   "outputs": [],
   "source": [
    "import zoo\n",
    "zoo.hours()"
   ]
  },
  {
   "cell_type": "markdown",
   "id": "ddd9bb59-54c5-45de-a0ac-c9542c8538f2",
   "metadata": {},
   "source": [
    "2. In the interactive interpreter, import the zoo module as menagerie and call its hours() function."
   ]
  },
  {
   "cell_type": "code",
   "execution_count": null,
   "id": "2e56148a-957f-421f-8c6e-0f333909b39e",
   "metadata": {},
   "outputs": [],
   "source": [
    "import zoo as menagerie\n",
    "menagerie.hours()"
   ]
  },
  {
   "cell_type": "markdown",
   "id": "3885f3ed-0e49-4d9a-b556-6dabfccb05bf",
   "metadata": {},
   "source": [
    "3. Using the interpreter, explicitly import and call the hours() function from zoo."
   ]
  },
  {
   "cell_type": "code",
   "execution_count": null,
   "id": "7dd8686e-858e-44a8-9ec9-6bd86eb80f85",
   "metadata": {},
   "outputs": [],
   "source": [
    "from zoo import hours\n",
    "hours()"
   ]
  },
  {
   "cell_type": "markdown",
   "id": "8ec2667f-45b8-46e1-8ad7-eb84f4f0cee6",
   "metadata": {},
   "source": [
    "4. Import the hours() function as info and call it."
   ]
  },
  {
   "cell_type": "code",
   "execution_count": null,
   "id": "5ee02ba4-43fa-489e-bd8e-67e28a594553",
   "metadata": {},
   "outputs": [],
   "source": [
    "from zoo import hours as info\n",
    "info()"
   ]
  },
  {
   "cell_type": "markdown",
   "id": "834ec74c-fddc-45b1-82d9-94e0512fb496",
   "metadata": {},
   "source": [
    "5. Create a plain dictionary with the key-value pairs 'a': 1, 'b': 2, and 'c': 3, and print it out."
   ]
  },
  {
   "cell_type": "code",
   "execution_count": null,
   "id": "f11b2ade-81e7-4d41-b8a9-985ff50bc929",
   "metadata": {},
   "outputs": [],
   "source": [
    "plain_dict = {'a':1,'b':2,'c':3}\n",
    "print(plain_dict)"
   ]
  },
  {
   "cell_type": "markdown",
   "id": "31628e09-50f8-4559-a52c-572c345feaaf",
   "metadata": {},
   "source": [
    "6. Make an OrderedDict called fancy from the same pairs listed in 5 and print it. Did it print in the same order as plain?"
   ]
  },
  {
   "cell_type": "code",
   "execution_count": null,
   "id": "5f472984-51f0-45a2-a6ef-61a4669832b1",
   "metadata": {},
   "outputs": [],
   "source": [
    "from collections import OrderedDict\n",
    "fancy = OrderedDict(plain_dict)\n",
    "print(f'plain_dict -> {plain_dict}')\n",
    "print(f'fancy -> {fancy}')"
   ]
  },
  {
   "cell_type": "markdown",
   "id": "fd1d7388-65a8-4b73-866b-9f3a7e0c1e46",
   "metadata": {},
   "source": [
    "7. Make a default dictionary called dict_of_lists and pass it the argument list. Make the list dict_of_lists['a'] and append the value 'something for a' to it in one assignment. Print dict_of_lists['a']."
   ]
  },
  {
   "cell_type": "code",
   "execution_count": null,
   "id": "e6eb5567-b837-4f0c-9c78-d9212a8516de",
   "metadata": {},
   "outputs": [],
   "source": [
    "from collections import defaultdict\n",
    "dict_of_lists = defaultdict(list)\n",
    "dict_of_lists['a'].append('something for a')\n",
    "print(dict_of_lists['a'])"
   ]
  }
 ],
 "metadata": {
  "kernelspec": {
   "display_name": "Python 3 (ipykernel)",
   "language": "python",
   "name": "python3"
  },
  "language_info": {
   "codemirror_mode": {
    "name": "ipython",
    "version": 3
   },
   "file_extension": ".py",
   "mimetype": "text/x-python",
   "name": "python",
   "nbconvert_exporter": "python",
   "pygments_lexer": "ipython3",
   "version": "3.10.6"
  }
 },
 "nbformat": 4,
 "nbformat_minor": 5
}
