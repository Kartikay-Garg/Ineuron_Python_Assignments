{
 "cells": [
  {
   "cell_type": "markdown",
   "id": "679845e2-ac6a-45be-834b-985726b771bb",
   "metadata": {},
   "source": [
    "1. Is the Python Standard Library included with PyInputPlus?"
   ]
  },
  {
   "cell_type": "code",
   "execution_count": 10,
   "id": "f915843f-f473-4f4f-88a4-c696f507655b",
   "metadata": {},
   "outputs": [],
   "source": [
    "#No. PyInputPlus is a third-party module and doesn’t come with the Python Standard Library."
   ]
  },
  {
   "cell_type": "markdown",
   "id": "539450b1-7544-4e57-ac60-ab37fa830896",
   "metadata": {},
   "source": [
    "2. Why is PyInputPlus commonly imported with import pyinputplus as pypi?"
   ]
  },
  {
   "cell_type": "code",
   "execution_count": 11,
   "id": "5af8093a-6a42-4d74-a95a-2d131ba82a10",
   "metadata": {},
   "outputs": [],
   "source": [
    "#This optionally makes your code shorter to type: you can type pyip.inputStr() instead of pyinputplus.inputStr()."
   ]
  },
  {
   "cell_type": "markdown",
   "id": "9d790aa3-5092-4f2b-953d-fdfd59ba76c0",
   "metadata": {},
   "source": [
    "3. How do you distinguish between inputInt() and inputFloat()?"
   ]
  },
  {
   "cell_type": "code",
   "execution_count": 12,
   "id": "4f7b3f74-54b0-4985-b957-9665008ebade",
   "metadata": {},
   "outputs": [],
   "source": [
    "#The inputInt() function returns an int value, while the inputFloat() function returns a float value. This is the difference between returning 4 and 4.0."
   ]
  },
  {
   "cell_type": "markdown",
   "id": "69fcb903-c3b5-4a9f-8d13-fc7f18d78518",
   "metadata": {},
   "source": [
    "4. Using PyInputPlus, how do you ensure that the user enters a whole number between 0 and 99?"
   ]
  },
  {
   "cell_type": "code",
   "execution_count": 13,
   "id": "0618e689-2ad7-4de4-be25-c22a799bd100",
   "metadata": {},
   "outputs": [],
   "source": [
    "# Call pyip.inputint(min=0, max=99)."
   ]
  },
  {
   "cell_type": "markdown",
   "id": "d9b5e910-3e45-494a-9707-59b71afda75a",
   "metadata": {},
   "source": [
    "5. What is transferred to the keyword arguments allowRegexes and blockRegexes?"
   ]
  },
  {
   "cell_type": "code",
   "execution_count": 14,
   "id": "3c37b776-08b2-4a33-9983-30f76e526f42",
   "metadata": {},
   "outputs": [],
   "source": [
    "# A list of regex strings that are either explicitly allowed or denied."
   ]
  },
  {
   "cell_type": "markdown",
   "id": "9d11829c-9c64-4d5f-a432-8778f51e4ebb",
   "metadata": {},
   "source": [
    "6. If a blank input is entered three times, what does inputStr(limit=3) do?"
   ]
  },
  {
   "cell_type": "code",
   "execution_count": 15,
   "id": "f5733786-c7b8-4fb5-b186-75ae34e2ce5c",
   "metadata": {},
   "outputs": [],
   "source": [
    "# The function will raise RetryLimitException."
   ]
  },
  {
   "cell_type": "markdown",
   "id": "9a60c22f-0f1b-46bb-b124-f34f5e9913fa",
   "metadata": {},
   "source": [
    "7. If blank input is entered three times, what does inputStr(limit=3, default=&#39;hello&#39;) do?"
   ]
  },
  {
   "cell_type": "code",
   "execution_count": 16,
   "id": "b0974772-f048-402b-9bbc-44ee5f859131",
   "metadata": {},
   "outputs": [],
   "source": [
    "# The function returns the value 'hello'."
   ]
  }
 ],
 "metadata": {
  "kernelspec": {
   "display_name": "Python 3 (ipykernel)",
   "language": "python",
   "name": "python3"
  },
  "language_info": {
   "codemirror_mode": {
    "name": "ipython",
    "version": 3
   },
   "file_extension": ".py",
   "mimetype": "text/x-python",
   "name": "python",
   "nbconvert_exporter": "python",
   "pygments_lexer": "ipython3",
   "version": "3.10.6"
  }
 },
 "nbformat": 4,
 "nbformat_minor": 5
}
