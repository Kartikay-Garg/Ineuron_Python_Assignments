{
 "cells": [
  {
   "cell_type": "markdown",
   "id": "dc0d68f3-9052-4c02-a802-ef2f3a1af330",
   "metadata": {},
   "source": [
    "1. What is the name of the feature responsible for generating Regex objects?"
   ]
  },
  {
   "cell_type": "code",
   "execution_count": 2,
   "id": "1ead8e42-75da-40e0-a859-b0d91f36ac89",
   "metadata": {},
   "outputs": [],
   "source": [
    "#The re.compile() function returns Regex objects."
   ]
  },
  {
   "cell_type": "markdown",
   "id": "56cdc40b-f00d-4ba0-a16a-63baef3dae5f",
   "metadata": {},
   "source": [
    "2. Why do raw strings often appear in Regex objects?"
   ]
  },
  {
   "cell_type": "code",
   "execution_count": 3,
   "id": "729f18da-a8f7-4132-80a0-c98037d1c080",
   "metadata": {},
   "outputs": [],
   "source": [
    "#Raw strings are used so that backslashes do not have to be escaped."
   ]
  },
  {
   "cell_type": "markdown",
   "id": "f6ea8198-a901-49bd-870d-c420725f4a6e",
   "metadata": {},
   "source": [
    "3. What is the return value of the search() method?"
   ]
  },
  {
   "cell_type": "code",
   "execution_count": 4,
   "id": "74820322-e80d-44ce-80ca-ae40db2cd6dd",
   "metadata": {},
   "outputs": [],
   "source": [
    "#The search() method returns Match objects."
   ]
  },
  {
   "cell_type": "markdown",
   "id": "a7089c5a-d4f4-4322-a7c4-afde0cf6e0b7",
   "metadata": {},
   "source": [
    "4. From a Match item, how do you get the actual strings that match the pattern?"
   ]
  },
  {
   "cell_type": "code",
   "execution_count": 5,
   "id": "8c0256c2-5f81-425b-8883-be289b46e7c2",
   "metadata": {},
   "outputs": [],
   "source": [
    "#The group() method returns strings of the matched text."
   ]
  },
  {
   "cell_type": "markdown",
   "id": "067d1baa-e21e-4bc4-968f-a7201dbbc783",
   "metadata": {},
   "source": [
    "5. In the regex which created from the r&#39;(\\d\\d\\d)-(\\d\\d\\d-\\d\\d\\d\\d)&#39;, what does group zero cover?\n",
    "Group 2? Group 1?"
   ]
  },
  {
   "cell_type": "code",
   "execution_count": 6,
   "id": "9d5f49f6-a233-47d9-9f67-cc3f035bb0fa",
   "metadata": {},
   "outputs": [],
   "source": [
    "# Group 0 is the entire match, group 1 covers the first set of parentheses, and group 2 covers the second set of parentheses."
   ]
  },
  {
   "cell_type": "markdown",
   "id": "3416fed4-411e-4874-a5b5-391e80ce5545",
   "metadata": {},
   "source": [
    "6. In standard expression syntax, parentheses and intervals have distinct meanings. How can you tell\n",
    "a regex that you want it to fit real parentheses and periods?"
   ]
  },
  {
   "cell_type": "code",
   "execution_count": 7,
   "id": "5f700631-9795-46ca-8491-0b306a94aaf7",
   "metadata": {},
   "outputs": [],
   "source": [
    "# Periods and parentheses can be escaped with a backslash: \\., \\(, and \\)."
   ]
  },
  {
   "cell_type": "markdown",
   "id": "2ef44cef-8e03-4664-b999-ad98cda284a7",
   "metadata": {},
   "source": [
    "7. The findall() method returns a string list or a list of string tuples. What causes it to return one of\n",
    "the two options?"
   ]
  },
  {
   "cell_type": "code",
   "execution_count": 8,
   "id": "aed8495c-c45f-4a63-8494-939b577795ab",
   "metadata": {},
   "outputs": [],
   "source": [
    "# If the regex has no groups, a list of strings is returned. If the regex has groups, a list of tuples of strings is returned."
   ]
  },
  {
   "cell_type": "markdown",
   "id": "5fddd786-9140-4149-b62c-4fffb1251f25",
   "metadata": {},
   "source": [
    "8. In standard expressions, what does the | character mean?"
   ]
  },
  {
   "cell_type": "code",
   "execution_count": 9,
   "id": "dfd2f7dd-750c-4c1b-9dbc-fd5b40172f2f",
   "metadata": {},
   "outputs": [],
   "source": [
    "# The | character signifies matching “either, or” between two groups."
   ]
  },
  {
   "cell_type": "markdown",
   "id": "9d5136bd-9c05-45e6-8112-3b003f15eede",
   "metadata": {},
   "source": [
    "9. In regular expressions, what does the character stand for?"
   ]
  },
  {
   "cell_type": "code",
   "execution_count": 10,
   "id": "9bcf5ff3-d448-49e9-a3cb-b692d81cf7e5",
   "metadata": {},
   "outputs": [],
   "source": [
    "# The ? character can either mean “match zero or one of the preceding group” or be used to signify non-greedy matching."
   ]
  },
  {
   "cell_type": "markdown",
   "id": "4bfb7dd0-6d0d-489f-abab-9c3e1d1f1250",
   "metadata": {},
   "source": [
    "10.In regular expressions, what is the difference between the + and * characters?"
   ]
  },
  {
   "cell_type": "code",
   "execution_count": 11,
   "id": "96bf19f8-1df1-4fff-a907-ed34b9294e29",
   "metadata": {},
   "outputs": [],
   "source": [
    "#  The + matches one or more. The * matches zero or more."
   ]
  },
  {
   "cell_type": "markdown",
   "id": "474e439d-366f-410a-8065-3453ac1b7f31",
   "metadata": {},
   "source": [
    "11. What is the difference between {4} and {4,5} in regular expression?"
   ]
  },
  {
   "cell_type": "code",
   "execution_count": 12,
   "id": "8d86a445-aa83-487e-851b-569615a13aa2",
   "metadata": {},
   "outputs": [],
   "source": [
    "#  The {4} matches exactly three instances of the preceding group. The {4,5} matches between three and five instances."
   ]
  },
  {
   "cell_type": "markdown",
   "id": "ac18677a-c65f-471d-abd8-59ceebf84f3b",
   "metadata": {},
   "source": [
    "12. What do you mean by the \\d, \\w, and \\s shorthand character classes signify in regular\n",
    "expressions?"
   ]
  },
  {
   "cell_type": "code",
   "execution_count": 13,
   "id": "d170652f-bfb2-473c-81b9-a9bd480ce7c9",
   "metadata": {},
   "outputs": [],
   "source": [
    "# The \\d, \\w, and \\s shorthand character classes match a single digit, word, or space character, respectively."
   ]
  },
  {
   "cell_type": "markdown",
   "id": "4e656cb6-bb06-4282-973d-0bff211b7496",
   "metadata": {},
   "source": [
    "13. What do means by \\D, \\W, and \\S shorthand character classes signify in regular expressions?"
   ]
  },
  {
   "cell_type": "code",
   "execution_count": 14,
   "id": "e1ed8740-4b11-4c2d-829b-d10530be8ce6",
   "metadata": {},
   "outputs": [],
   "source": [
    "# The \\D, \\W, and \\S shorthand character classes match a single character that is not a digit, word, or space character, respectively."
   ]
  },
  {
   "cell_type": "markdown",
   "id": "2c56e04b-e857-4abb-8aa7-c49c3d76b082",
   "metadata": {},
   "source": [
    "14. What is the difference between .*? and .*?"
   ]
  },
  {
   "cell_type": "code",
   "execution_count": 15,
   "id": "ce186fa3-6e39-4a12-9d8f-6cb406a3d3b0",
   "metadata": {},
   "outputs": [],
   "source": [
    "#  The .* performs a greedy match, and the .*? performs a non-greedy match."
   ]
  },
  {
   "cell_type": "markdown",
   "id": "94874c1b-e282-4477-ba48-845a7acab7c5",
   "metadata": {},
   "source": [
    "15. What is the syntax for matching both numbers and lowercase letters with a character class?"
   ]
  },
  {
   "cell_type": "code",
   "execution_count": 16,
   "id": "5b2c30f1-1aca-4081-85aa-8b7d0fca68cf",
   "metadata": {},
   "outputs": [],
   "source": [
    "# Either [0-9a-z] or [a-z0-9]"
   ]
  },
  {
   "cell_type": "markdown",
   "id": "06271968-055e-4ba8-82f1-830113eb1fd4",
   "metadata": {},
   "source": [
    "16. What is the procedure for making a normal expression in regax case insensitive?"
   ]
  },
  {
   "cell_type": "code",
   "execution_count": 17,
   "id": "b8f31db1-f504-445b-9638-91727c3d7cfe",
   "metadata": {},
   "outputs": [],
   "source": [
    "#  Passing re.I or re.IGNORECASE as the second argument to re.compile() will make the matching case insensitive."
   ]
  },
  {
   "cell_type": "markdown",
   "id": "42dbf2d2-0a79-4fa8-8130-599c468874d8",
   "metadata": {},
   "source": [
    "17. What does the . character normally match? What does it match if re.DOTALL is passed as 2nd\n",
    "argument in re.compile()?"
   ]
  },
  {
   "cell_type": "code",
   "execution_count": 18,
   "id": "0db73e0b-60e0-4bbe-9d4b-807a6bd47274",
   "metadata": {},
   "outputs": [],
   "source": [
    "# The . character normally matches any character except the newline character.\n",
    "#If re.DOTALL is passed as the second argument to re.compile(), then the dot will also match newline characters."
   ]
  },
  {
   "cell_type": "markdown",
   "id": "e01a153f-a63c-4531-90ae-baa126d4ccfd",
   "metadata": {},
   "source": [
    "18. If numReg = re.compile(r&#39;\\d+&#39;), what will numRegex.sub(&#39;X&#39;, &#39;11 drummers, 10 pipers, five rings, 4\n",
    "hen&#39;) return?"
   ]
  },
  {
   "cell_type": "code",
   "execution_count": 19,
   "id": "dd7a17e2-885e-40cc-91f1-2042c013bd6e",
   "metadata": {},
   "outputs": [],
   "source": [
    "# The sub() call will return the string 'X drummers, X pipers, five rings, X hens'."
   ]
  },
  {
   "cell_type": "markdown",
   "id": "f736bce3-0d4d-46c6-a6b3-ff08a92cc1fe",
   "metadata": {},
   "source": [
    "19. What does passing re.VERBOSE as the 2nd argument to re.compile() allow to do?"
   ]
  },
  {
   "cell_type": "code",
   "execution_count": 20,
   "id": "d8e15b61-6bbc-44b2-bf11-148bf4551a30",
   "metadata": {},
   "outputs": [],
   "source": [
    "#  The re.VERBOSE argument allows you to add whitespace and comments to the string passed to re.compile()."
   ]
  },
  {
   "cell_type": "markdown",
   "id": "e943e59d-1533-4355-a4a7-a91ec4dc20ef",
   "metadata": {},
   "source": [
    "20. How would you write a regex that match a number with comma for every three digits? It must\n",
    "match the given following:\n",
    "&#39;42&#39;\n",
    "&#39;1,234&#39;\n",
    "&#39;6,368,745&#39;\n",
    "\n",
    "but not the following:\n",
    "&#39;12,34,567&#39; (which has only two digits between the commas)\n",
    "&#39;1234&#39; (which lacks commas)"
   ]
  },
  {
   "cell_type": "code",
   "execution_count": 21,
   "id": "9d6c525f-4d5b-44da-be35-644d313df019",
   "metadata": {},
   "outputs": [],
   "source": [
    "#  re.compile(r'^\\d{1,3}(,\\d{3})*$') will create this regex, but other regex strings can produce a similar regular expression."
   ]
  },
  {
   "cell_type": "markdown",
   "id": "d1a41f70-abe6-4142-91f9-a6fe72ec7a9b",
   "metadata": {},
   "source": [
    "21. How would you write a regex that matches the full name of someone whose last name is\n",
    "Watanabe? You can assume that the first name that comes before it will always be one word that\n",
    "begins with a capital letter. The regex must match the following:\n",
    "&#39;Haruto Watanabe&#39;\n",
    "&#39;Alice Watanabe&#39;\n",
    "&#39;RoboCop Watanabe&#39;\n",
    "but not the following:\n",
    "&#39;haruto Watanabe&#39; (where the first name is not capitalized)\n",
    "&#39;Mr. Watanabe&#39; (where the preceding word has a nonletter character)\n",
    "&#39;Watanabe&#39; (which has no first name)\n",
    "&#39;Haruto watanabe&#39; (where Watanabe is not capitalized)"
   ]
  },
  {
   "cell_type": "code",
   "execution_count": 22,
   "id": "3a512a83-5bd9-497a-a619-a3979dfe715e",
   "metadata": {},
   "outputs": [],
   "source": [
    "#  re.compile(r'[A-Z][a-z]*\\sWatanabe')"
   ]
  },
  {
   "cell_type": "markdown",
   "id": "6c9361a3-c0be-4ba3-8ac9-abc7b2c6035d",
   "metadata": {},
   "source": [
    "22. How would you write a regex that matches a sentence where the first word is either Alice, Bob,\n",
    "or Carol; the second word is either eats, pets, or throws; the third word is apples, cats, or baseballs;\n",
    "and the sentence ends with a period? This regex should be case-insensitive. It must match the\n",
    "following:\n",
    "&#39;Alice eats apples.&#39;\n",
    "&#39;Bob pets cats.&#39;\n",
    "&#39;Carol throws baseballs.&#39;\n",
    "&#39;Alice throws Apples.&#39;\n",
    "&#39;BOB EATS CATS.&#39;\n",
    "but not the following:\n",
    "&#39;RoboCop eats apples.&#39;\n",
    "&#39;ALICE THROWS FOOTBALLS.&#39;\n",
    "&#39;Carol eats 7 cats.&#39;"
   ]
  },
  {
   "cell_type": "code",
   "execution_count": 23,
   "id": "d58e19f6-48b6-4829-9d42-d2fa75f248c2",
   "metadata": {},
   "outputs": [],
   "source": [
    "# re.compile(r'(Alice|Bob|Carol)\\s(eats|pets|throws)\\s(apples|cats|baseballs)\\.', re.IGNORECASE)"
   ]
  },
  {
   "cell_type": "code",
   "execution_count": null,
   "id": "482001ef-10db-47ab-88c6-7cd1cd735f78",
   "metadata": {},
   "outputs": [],
   "source": []
  }
 ],
 "metadata": {
  "kernelspec": {
   "display_name": "Python 3 (ipykernel)",
   "language": "python",
   "name": "python3"
  },
  "language_info": {
   "codemirror_mode": {
    "name": "ipython",
    "version": 3
   },
   "file_extension": ".py",
   "mimetype": "text/x-python",
   "name": "python",
   "nbconvert_exporter": "python",
   "pygments_lexer": "ipython3",
   "version": "3.10.6"
  }
 },
 "nbformat": 4,
 "nbformat_minor": 5
}
