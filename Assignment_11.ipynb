{
 "cells": [
  {
   "cell_type": "markdown",
   "id": "8220d783-be27-4bce-bf17-ee3f1c8f163f",
   "metadata": {},
   "source": [
    "1. Create an assert statement that throws an AssertionError if the variable spam is a negative\n",
    "integer."
   ]
  },
  {
   "cell_type": "markdown",
   "id": "5ca60124-2b68-41e2-a36b-47732af3c050",
   "metadata": {},
   "source": [
    "## Ans: assert spam >= 10, 'The spam variable is less than 10.'"
   ]
  },
  {
   "cell_type": "markdown",
   "id": "bf15ba12-1314-4f50-b842-98130c323f5e",
   "metadata": {},
   "source": [
    "2. Write an assert statement that triggers an AssertionError if the variables eggs and bacon contain\n",
    "strings that are the same as each other, even if their cases are different (that is, &#39;hello&#39; and &#39;hello&#39; are considered the same, and &#39;goodbye&#39; and &#39;GOODbye&#39; are also considered the same)."
   ]
  },
  {
   "cell_type": "markdown",
   "id": "0abec098-0491-4369-9f87-697947b5429e",
   "metadata": {},
   "source": [
    "## Ans: Either assert eggs.lower() != bacon.lower() 'The eggs and bacon variables are the same!' or assert eggs.upper() != bacon.upper(), 'The eggs and bacon variables are the same!'"
   ]
  },
  {
   "cell_type": "markdown",
   "id": "bef94f7a-2679-4d21-83ba-e17f19e8866c",
   "metadata": {},
   "source": [
    "3. Create an assert statement that throws an AssertionError every time."
   ]
  },
  {
   "cell_type": "markdown",
   "id": "c2bd8efd-ba8b-45f0-a6cc-c3f57e843ad5",
   "metadata": {},
   "source": [
    "## Ans: assert False, 'This assertion always triggers.'"
   ]
  },
  {
   "cell_type": "markdown",
   "id": "6320fcfc-1907-42b4-b186-b08ef24ea55c",
   "metadata": {},
   "source": [
    "4. What are the two lines that must be present in your software in order to call logging.debug()?"
   ]
  },
  {
   "cell_type": "markdown",
   "id": "b59d8afa-d4f3-46a8-9243-72ddee27a4c5",
   "metadata": {},
   "source": [
    "## Ans: To be able to call logging.debug(), you must have these two lines at the start of your program:\n",
    "\n",
    "#### import logging\n",
    "#### logging.basicConfig(level=logging.DEBUG, format=' %(asctime)s -\n",
    "#### %(levelname)s -  %(message)s')"
   ]
  },
  {
   "cell_type": "markdown",
   "id": "f7f0af67-d717-4957-b817-52c863fe40b2",
   "metadata": {},
   "source": [
    "5. What are the two lines that your program must have in order to have logging.debug() send a\n",
    "logging message to a file named programLog.txt?"
   ]
  },
  {
   "cell_type": "markdown",
   "id": "d9d2ba0f-17c1-4030-bc07-ad0fdeda837c",
   "metadata": {},
   "source": [
    "## Ans: To be able to send logging messages to a file named programLog.txt with logging.debug(), you must have these two lines at the start of your program:\n",
    "\n",
    "#### import logging\n",
    "#### >>> logging.basicConfig(filename='programLog.txt', level=logging.DEBUG,\n",
    "#### format=' %(asctime)s -  %(levelname)s -  %(message)s')"
   ]
  },
  {
   "cell_type": "markdown",
   "id": "fa343a38-1ad2-42e8-800f-4d497ef4b247",
   "metadata": {},
   "source": [
    "6. What are the five levels of logging?"
   ]
  },
  {
   "cell_type": "markdown",
   "id": "16030221-a965-4179-aa72-e7245ccf370a",
   "metadata": {},
   "source": [
    "## Ans: DEBUG, INFO, WARNING, ERROR, and CRITICAL"
   ]
  },
  {
   "cell_type": "markdown",
   "id": "45bd5016-58c4-4448-9fdb-53e2c2827d96",
   "metadata": {},
   "source": [
    "7. What line of code would you add to your software to disable all logging messages?"
   ]
  },
  {
   "cell_type": "markdown",
   "id": "3e5e7a8a-4889-44b9-94c0-7434fa002613",
   "metadata": {},
   "source": [
    "## Ans: logging.disable(logging.CRITICAL)"
   ]
  },
  {
   "cell_type": "markdown",
   "id": "c1a3f2ac-dc7d-4640-8a22-af2101d15e62",
   "metadata": {},
   "source": [
    "8. Why is using logging messages better than using print() to display the same message?"
   ]
  },
  {
   "cell_type": "markdown",
   "id": "2cf53587-2358-40e3-9284-762fbd6a88ce",
   "metadata": {},
   "source": [
    "## Ans: You can disable logging messages without removing the logging function calls. You can selectively disable lower-level logging messages. You can create logging messages. Logging messages provides a timestamp."
   ]
  },
  {
   "cell_type": "markdown",
   "id": "de5d0bcf-6124-4f3f-b9cd-6aa3a4b0456c",
   "metadata": {},
   "source": [
    "9. What are the differences between the Step Over, Step In, and Step Out buttons in the debugger?"
   ]
  },
  {
   "cell_type": "markdown",
   "id": "ecd8b33c-93fc-4b56-91bd-08dba7c63f19",
   "metadata": {},
   "source": [
    "## Ans: The Step In button will move the debugger into a function call. The Step Over button will quickly execute the function call without stepping into it. The Step Out button will quickly execute the rest of the code until it steps out of the function it currently is in."
   ]
  },
  {
   "cell_type": "markdown",
   "id": "b9fc81f3-f5dc-4383-a417-87e0fc9e61d6",
   "metadata": {},
   "source": [
    "10. After you click Continue, when will the debugger stop ?"
   ]
  },
  {
   "cell_type": "markdown",
   "id": "137a160e-8cd3-4d28-8a34-0129b93de8c2",
   "metadata": {},
   "source": [
    "## Ans: After you click Continue, the debugger will stop when it has reached the end of the program or a line with a breakpoint."
   ]
  },
  {
   "cell_type": "markdown",
   "id": "005dc090-bbeb-4e33-b09b-c091981728f1",
   "metadata": {},
   "source": [
    "11. What is the concept of a breakpoint?"
   ]
  },
  {
   "cell_type": "markdown",
   "id": "77099bbb-3f69-4838-9bf3-24b8ebf210e7",
   "metadata": {},
   "source": [
    "## Ans: A breakpoint is a setting on a line of code that causes the debugger to pause when the program execution reaches the line."
   ]
  }
 ],
 "metadata": {
  "kernelspec": {
   "display_name": "Python 3 (ipykernel)",
   "language": "python",
   "name": "python3"
  },
  "language_info": {
   "codemirror_mode": {
    "name": "ipython",
    "version": 3
   },
   "file_extension": ".py",
   "mimetype": "text/x-python",
   "name": "python",
   "nbconvert_exporter": "python",
   "pygments_lexer": "ipython3",
   "version": "3.10.6"
  }
 },
 "nbformat": 4,
 "nbformat_minor": 5
}
