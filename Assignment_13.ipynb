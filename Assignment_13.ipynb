{
 "cells": [
  {
   "cell_type": "markdown",
   "id": "7d7052cd-ae72-42f3-b2fb-affe43c776a7",
   "metadata": {},
   "source": [
    "#### 1. What advantages do Excel spreadsheets have over CSV spreadsheets? "
   ]
  },
  {
   "cell_type": "markdown",
   "id": "f40b4dc0-5e99-431f-a336-abc0216d22b0",
   "metadata": {},
   "source": [
    "Ans. In Excel, spreadsheets can have values of data types other than strings; cells can have different fonts, sizes, or color settings; cells can have varying widths and heights; adjacent cells can be merged; and you can embed images and charts."
   ]
  },
  {
   "cell_type": "markdown",
   "id": "17eda0e6-0e7c-4cac-8a9b-96d8278ebcf3",
   "metadata": {},
   "source": [
    "#### 2.What do you pass to csv.reader() and csv.writer() to create reader and writer objects?"
   ]
  },
  {
   "cell_type": "markdown",
   "id": "3571168b-ecc6-48b3-8231-34827844f830",
   "metadata": {},
   "source": [
    "Ans. You pass a File object, obtained from a call to open()."
   ]
  },
  {
   "cell_type": "markdown",
   "id": "15533d7e-0735-47a1-956b-a3c87d4877cc",
   "metadata": {},
   "source": [
    "#### 3. What modes do File objects for reader and writer objects need to be opened in?"
   ]
  },
  {
   "cell_type": "markdown",
   "id": "19ce086e-50ad-4da2-af87-0aad4b03bb29",
   "metadata": {},
   "source": [
    "Ans. File objects need to be opened in read-binary ('rb') for reader objects and write-binary ('wb') for writer objects"
   ]
  },
  {
   "cell_type": "markdown",
   "id": "d969f96c-0cb0-4e99-8b9b-b59db2f0c7dd",
   "metadata": {},
   "source": [
    "#### 4. What method takes a list argument and writes it to a CSV file? "
   ]
  },
  {
   "cell_type": "markdown",
   "id": "0f880f24-0666-4715-b0eb-ec02d5250741",
   "metadata": {},
   "source": [
    "Ans. The writerow() method"
   ]
  },
  {
   "cell_type": "markdown",
   "id": "a58b44b7-e8df-4e5f-a083-64d839e5a62f",
   "metadata": {},
   "source": [
    "#### 5. What do the keyword arguments delimiter and line terminator do?"
   ]
  },
  {
   "cell_type": "markdown",
   "id": "065726c2-3494-497f-b588-fc953abb6212",
   "metadata": {},
   "source": [
    "Ans. The delimiter argument changes the string used to separate cells in a row. The lineterminator argument changes the string used to separate rows."
   ]
  },
  {
   "cell_type": "markdown",
   "id": "c21997b7-8d5c-41b4-bd9d-7e761364f8d2",
   "metadata": {},
   "source": [
    "#### 6. What function takes a string of JSON data and returns a Python data structure?"
   ]
  },
  {
   "cell_type": "markdown",
   "id": "62331b35-5041-45ea-811f-913da7a04114",
   "metadata": {},
   "source": [
    "Ans. json.loads()"
   ]
  },
  {
   "cell_type": "markdown",
   "id": "4686042e-4abf-4d88-9e92-f79165150346",
   "metadata": {},
   "source": [
    "#### 7. What function takes a Python data structure and returns a string of JSON data?"
   ]
  },
  {
   "cell_type": "markdown",
   "id": "ae2c1d8b-f84d-4f8c-8cb8-2fa4d8a47882",
   "metadata": {},
   "source": [
    "Ans. json.dumps()"
   ]
  },
  {
   "cell_type": "code",
   "execution_count": null,
   "id": "37461f03-2c4b-4b76-802f-9388880d1864",
   "metadata": {},
   "outputs": [],
   "source": []
  }
 ],
 "metadata": {
  "kernelspec": {
   "display_name": "Python 3 (ipykernel)",
   "language": "python",
   "name": "python3"
  },
  "language_info": {
   "codemirror_mode": {
    "name": "ipython",
    "version": 3
   },
   "file_extension": ".py",
   "mimetype": "text/x-python",
   "name": "python",
   "nbconvert_exporter": "python",
   "pygments_lexer": "ipython3",
   "version": "3.10.6"
  }
 },
 "nbformat": 4,
 "nbformat_minor": 5
}
