{
 "cells": [
  {
   "cell_type": "markdown",
   "id": "012febdc-8982-470b-b248-c65c5827a3c9",
   "metadata": {},
   "source": [
    "1. What are escape characters, and how do you use them?"
   ]
  },
  {
   "cell_type": "markdown",
   "id": "92be05d9-cf0d-4862-8fd7-74b282c7d5b8",
   "metadata": {},
   "source": [
    "An escape character is a backslash \\ followed by the character you want to insert."
   ]
  },
  {
   "cell_type": "code",
   "execution_count": 1,
   "id": "950da524-96c7-47a2-83c3-8473fbc06bf4",
   "metadata": {},
   "outputs": [],
   "source": [
    "#example"
   ]
  },
  {
   "cell_type": "code",
   "execution_count": 2,
   "id": "81f1d99c-c179-4e72-9dc6-704d9f6c996d",
   "metadata": {},
   "outputs": [],
   "source": [
    "s = \"I am learning \\\"python\\\" language from ineuron.\""
   ]
  },
  {
   "cell_type": "code",
   "execution_count": 3,
   "id": "2b666819-315b-4031-9ddd-f5dacdb819c1",
   "metadata": {},
   "outputs": [
    {
     "data": {
      "text/plain": [
       "'I am learning \"python\" language from ineuron.'"
      ]
     },
     "execution_count": 3,
     "metadata": {},
     "output_type": "execute_result"
    }
   ],
   "source": [
    "s"
   ]
  },
  {
   "cell_type": "markdown",
   "id": "ebb9ce68-af08-4f31-99d6-482b8efa670f",
   "metadata": {},
   "source": [
    "2. What do the escape characters n and t stand for?"
   ]
  },
  {
   "cell_type": "raw",
   "id": "76c26f20-f129-4758-ab09-8975931ff18e",
   "metadata": {},
   "source": [
    "\\n  = Newline\n",
    "\\t  = Horizontal tab"
   ]
  },
  {
   "cell_type": "markdown",
   "id": "c684813a-943d-4f8b-9730-6f98a05e5c0c",
   "metadata": {},
   "source": [
    "3. What is the way to include backslash characters in a string?"
   ]
  },
  {
   "cell_type": "code",
   "execution_count": 4,
   "id": "cabd7295-0bef-45b9-bcd4-7242f1833f0c",
   "metadata": {},
   "outputs": [],
   "source": [
    "s = \"Bangalore is known as the \\\"Silicon Valley of India\\\" because of its role as the nation\\'s leading software exporter as well as being a major semiconductor hub\""
   ]
  },
  {
   "cell_type": "code",
   "execution_count": 5,
   "id": "85bfd52b-217d-4564-8822-41fb2664072d",
   "metadata": {},
   "outputs": [
    {
     "data": {
      "text/plain": [
       "'Bangalore is known as the \"Silicon Valley of India\" because of its role as the nation\\'s leading software exporter as well as being a major semiconductor hub'"
      ]
     },
     "execution_count": 5,
     "metadata": {},
     "output_type": "execute_result"
    }
   ],
   "source": [
    "s"
   ]
  },
  {
   "cell_type": "markdown",
   "id": "8019c28e-e954-4c33-94c0-e0caa70f1c17",
   "metadata": {},
   "source": [
    "Hence, we can use \"\\\" before the character we want to insert in to the string."
   ]
  },
  {
   "cell_type": "markdown",
   "id": "93c0d2f9-a912-4414-9481-e27a80e13411",
   "metadata": {},
   "source": [
    "4. The string &quot;Howl&#39;s Moving Castle&quot; is a correct value. Why isn&#39;t the single quote character in the\n",
    "word Howl&#39;s not escaped a problem?"
   ]
  },
  {
   "cell_type": "code",
   "execution_count": 6,
   "id": "10cabbc1-ee09-4247-a75f-12d7991bf508",
   "metadata": {},
   "outputs": [],
   "source": [
    "s = \"Howl's Moving Castle\""
   ]
  },
  {
   "cell_type": "code",
   "execution_count": 7,
   "id": "43959148-aa69-4eb0-b690-6c6fd1e0b319",
   "metadata": {},
   "outputs": [
    {
     "data": {
      "text/plain": [
       "\"Howl's Moving Castle\""
      ]
     },
     "execution_count": 7,
     "metadata": {},
     "output_type": "execute_result"
    }
   ],
   "source": [
    "s"
   ]
  },
  {
   "cell_type": "markdown",
   "id": "d8f6d99c-e683-4d9c-b4c0-3a063d255693",
   "metadata": {},
   "source": [
    "The single quote in Howl's is fine because you've used double quotes to mark the beginning and end of the string."
   ]
  },
  {
   "cell_type": "markdown",
   "id": "28fef1ab-624d-40da-bac2-96c63d87baeb",
   "metadata": {},
   "source": [
    "5. How do you write a string of newlines if you don&#39;t want to use the n character?"
   ]
  },
  {
   "cell_type": "markdown",
   "id": "8b247457-affb-44cd-931b-5b190bac1085",
   "metadata": {},
   "source": [
    "If you don't want to use the 'n' escape character, then you can use following ways to enter new lines:  "
   ]
  },
  {
   "cell_type": "raw",
   "id": "6e88d846-5b66-44ad-97e7-571a906d6dc8",
   "metadata": {},
   "source": [
    "1. you can use multiple print statements"
   ]
  },
  {
   "cell_type": "code",
   "execution_count": 8,
   "id": "9bb7a8c1-fb3b-4912-9530-d6d01e794c9b",
   "metadata": {},
   "outputs": [
    {
     "name": "stdout",
     "output_type": "stream",
     "text": [
      "Hello world\n",
      "my name is kartikay garg\n",
      "i am learning coding in python language\n"
     ]
    }
   ],
   "source": [
    "print(\"Hello world\")\n",
    "print(\"my name is kartikay garg\")\n",
    "print(\"i am learning coding in python language\")"
   ]
  },
  {
   "cell_type": "raw",
   "id": "7713318d-8b63-4b82-a93d-239ddc9d8e01",
   "metadata": {},
   "source": [
    "2. using for loop "
   ]
  },
  {
   "cell_type": "code",
   "execution_count": 9,
   "id": "2757628a-87f2-456a-ba38-1c6a71da0ae9",
   "metadata": {},
   "outputs": [],
   "source": [
    "s = [\"Hello world\", \"my name is kartikay garg\", \"i am currently living in meerut city \"]"
   ]
  },
  {
   "cell_type": "code",
   "execution_count": 10,
   "id": "4343647e-2359-4197-861f-141c8fb7118f",
   "metadata": {},
   "outputs": [
    {
     "name": "stdout",
     "output_type": "stream",
     "text": [
      "Hello world\n",
      "my name is kartikay garg\n",
      "i am currently living in meerut city \n"
     ]
    }
   ],
   "source": [
    "for i in s:\n",
    "    print(i)"
   ]
  },
  {
   "cell_type": "markdown",
   "id": "d2f9787f-9487-4a3f-b651-79933714f4a2",
   "metadata": {},
   "source": [
    "6. What are the values of the given expressions?\n"
   ]
  },
  {
   "cell_type": "code",
   "execution_count": 11,
   "id": "4b838b49-31a2-4408-81a2-5d2d3a0b99f9",
   "metadata": {},
   "outputs": [
    {
     "data": {
      "text/plain": [
       "'e'"
      ]
     },
     "execution_count": 11,
     "metadata": {},
     "output_type": "execute_result"
    }
   ],
   "source": [
    "\"Hello, world!\"[1]"
   ]
  },
  {
   "cell_type": "code",
   "execution_count": 12,
   "id": "a4c97bb1-13bb-4404-a416-471c1457a61d",
   "metadata": {},
   "outputs": [
    {
     "data": {
      "text/plain": [
       "'Hello'"
      ]
     },
     "execution_count": 12,
     "metadata": {},
     "output_type": "execute_result"
    }
   ],
   "source": [
    "\"Hello, world!\"[0:5]"
   ]
  },
  {
   "cell_type": "code",
   "execution_count": 13,
   "id": "00f167ac-f397-4273-8b32-ca3f825cbed8",
   "metadata": {},
   "outputs": [
    {
     "data": {
      "text/plain": [
       "'Hello'"
      ]
     },
     "execution_count": 13,
     "metadata": {},
     "output_type": "execute_result"
    }
   ],
   "source": [
    "\"Hello, world!\"[:5]"
   ]
  },
  {
   "cell_type": "code",
   "execution_count": 14,
   "id": "a266a910-cab7-4306-8ed8-abbab18bb25a",
   "metadata": {},
   "outputs": [
    {
     "data": {
      "text/plain": [
       "'lo, world!'"
      ]
     },
     "execution_count": 14,
     "metadata": {},
     "output_type": "execute_result"
    }
   ],
   "source": [
    "\"Hello, world!\"[3:]"
   ]
  },
  {
   "cell_type": "markdown",
   "id": "18c1775a-3a7c-4c87-8ce0-8ddc648172be",
   "metadata": {},
   "source": [
    "7. What are the values of the following expressions?"
   ]
  },
  {
   "cell_type": "code",
   "execution_count": 15,
   "id": "eb71ee33-c68a-4ded-b2b1-7b21dd20bdad",
   "metadata": {},
   "outputs": [
    {
     "data": {
      "text/plain": [
       "'HELLO'"
      ]
     },
     "execution_count": 15,
     "metadata": {},
     "output_type": "execute_result"
    }
   ],
   "source": [
    "\"Hello\".upper()"
   ]
  },
  {
   "cell_type": "code",
   "execution_count": 16,
   "id": "eb2756af-58e8-4468-84cd-c695b889f59a",
   "metadata": {},
   "outputs": [
    {
     "data": {
      "text/plain": [
       "True"
      ]
     },
     "execution_count": 16,
     "metadata": {},
     "output_type": "execute_result"
    }
   ],
   "source": [
    "\"Hello\".upper().isupper()"
   ]
  },
  {
   "cell_type": "code",
   "execution_count": 17,
   "id": "2c4b56de-9e57-4f36-84f8-932a1fba8234",
   "metadata": {},
   "outputs": [
    {
     "data": {
      "text/plain": [
       "'hello'"
      ]
     },
     "execution_count": 17,
     "metadata": {},
     "output_type": "execute_result"
    }
   ],
   "source": [
    "\"Hello\".upper().lower()"
   ]
  },
  {
   "cell_type": "markdown",
   "id": "753bef09-2fb1-4aeb-bd06-173cca07edc7",
   "metadata": {},
   "source": [
    "8. What are the values of the following expressions?"
   ]
  },
  {
   "cell_type": "code",
   "execution_count": 18,
   "id": "b33c8928-c1f9-403c-9592-dccfb07bf408",
   "metadata": {},
   "outputs": [
    {
     "data": {
      "text/plain": [
       "['Remember,', 'remember,', 'the', 'fifth', 'of', 'July.']"
      ]
     },
     "execution_count": 18,
     "metadata": {},
     "output_type": "execute_result"
    }
   ],
   "source": [
    "\"Remember, remember, the fifth of July.\".split()"
   ]
  },
  {
   "cell_type": "markdown",
   "id": "fece92bc-f7b1-4e13-992b-761ae6662a4a",
   "metadata": {},
   "source": [
    "&#39;-&#39;.join(&#39;There can only one.&#39;.split())"
   ]
  },
  {
   "cell_type": "code",
   "execution_count": 19,
   "id": "76d3476c-0890-4725-ad28-5c8f72d60abf",
   "metadata": {},
   "outputs": [
    {
     "data": {
      "text/plain": [
       "'There-can-only-one.'"
      ]
     },
     "execution_count": 19,
     "metadata": {},
     "output_type": "execute_result"
    }
   ],
   "source": [
    "\"-\".join(\"There can only one.\".split())"
   ]
  },
  {
   "cell_type": "markdown",
   "id": "6af41941-ea63-4d57-9ad3-b18e3a140746",
   "metadata": {},
   "source": [
    "9. What are the methods for right-justifying, left-justifying, and centering a string?"
   ]
  },
  {
   "cell_type": "code",
   "execution_count": 20,
   "id": "87ab8a20-6596-4e6a-bf74-7744aa0be162",
   "metadata": {},
   "outputs": [],
   "source": [
    "s = \"ineuron\""
   ]
  },
  {
   "cell_type": "code",
   "execution_count": 21,
   "id": "bf3d9722-492c-415e-a970-cd79e026fecc",
   "metadata": {},
   "outputs": [],
   "source": [
    "l = s.rjust(25)"
   ]
  },
  {
   "cell_type": "code",
   "execution_count": 22,
   "id": "9c996595-fb60-47ba-b6d1-98fa2be2de23",
   "metadata": {},
   "outputs": [
    {
     "data": {
      "text/plain": [
       "'                  ineuron'"
      ]
     },
     "execution_count": 22,
     "metadata": {},
     "output_type": "execute_result"
    }
   ],
   "source": [
    "l"
   ]
  },
  {
   "cell_type": "code",
   "execution_count": 23,
   "id": "ce07bdc7-4f38-4fa3-9342-621b22194252",
   "metadata": {},
   "outputs": [],
   "source": [
    "r = s.ljust(25)"
   ]
  },
  {
   "cell_type": "code",
   "execution_count": 24,
   "id": "4b985855-e9e5-4d57-8089-7bf881419347",
   "metadata": {},
   "outputs": [
    {
     "data": {
      "text/plain": [
       "'ineuron                  '"
      ]
     },
     "execution_count": 24,
     "metadata": {},
     "output_type": "execute_result"
    }
   ],
   "source": [
    "r"
   ]
  },
  {
   "cell_type": "code",
   "execution_count": 25,
   "id": "14764b34-f498-44f2-80f1-91747d926808",
   "metadata": {},
   "outputs": [],
   "source": [
    "c = s.center(25)"
   ]
  },
  {
   "cell_type": "code",
   "execution_count": 26,
   "id": "33cf6817-f039-4a0b-9191-db628b04fe22",
   "metadata": {},
   "outputs": [
    {
     "data": {
      "text/plain": [
       "'         ineuron         '"
      ]
     },
     "execution_count": 26,
     "metadata": {},
     "output_type": "execute_result"
    }
   ],
   "source": [
    "c"
   ]
  },
  {
   "cell_type": "markdown",
   "id": "12d2db46-d20e-48aa-b7ea-6066bd008aed",
   "metadata": {},
   "source": [
    "10. What is the best way to remove whitespace characters from the start or end?"
   ]
  },
  {
   "cell_type": "markdown",
   "id": "6d661a7f-4c2a-413c-b665-36f2f2666b66",
   "metadata": {},
   "source": [
    "1. Use the .lstrip() method to remove whitespace and characters only from the beginning of a string.\n",
    "2. Use the .rstrip() method to remove whitespace and characters only from the end of a string."
   ]
  },
  {
   "cell_type": "code",
   "execution_count": 27,
   "id": "95d0e457-eada-433c-9566-0a698137f518",
   "metadata": {},
   "outputs": [],
   "source": [
    "s = \"           ineuron          \""
   ]
  },
  {
   "cell_type": "code",
   "execution_count": 28,
   "id": "d79bcd91-0bd4-4f64-a35f-49ee212d40cc",
   "metadata": {},
   "outputs": [
    {
     "data": {
      "text/plain": [
       "'ineuron          '"
      ]
     },
     "execution_count": 28,
     "metadata": {},
     "output_type": "execute_result"
    }
   ],
   "source": [
    "s.lstrip()"
   ]
  },
  {
   "cell_type": "code",
   "execution_count": 29,
   "id": "bca61ba7-c143-40eb-bef4-de6ec185d97e",
   "metadata": {},
   "outputs": [
    {
     "data": {
      "text/plain": [
       "'           ineuron'"
      ]
     },
     "execution_count": 29,
     "metadata": {},
     "output_type": "execute_result"
    }
   ],
   "source": [
    "s.rstrip()"
   ]
  }
 ],
 "metadata": {
  "kernelspec": {
   "display_name": "Python 3 (ipykernel)",
   "language": "python",
   "name": "python3"
  },
  "language_info": {
   "codemirror_mode": {
    "name": "ipython",
    "version": 3
   },
   "file_extension": ".py",
   "mimetype": "text/x-python",
   "name": "python",
   "nbconvert_exporter": "python",
   "pygments_lexer": "ipython3",
   "version": "3.10.6"
  }
 },
 "nbformat": 4,
 "nbformat_minor": 5
}
