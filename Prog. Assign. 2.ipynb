{
 "cells": [
  {
   "cell_type": "markdown",
   "id": "8d5cd649-7ee9-4033-a5f9-00cdf6a138d2",
   "metadata": {},
   "source": [
    "1. Write a Python program to convert kilometers to miles?"
   ]
  },
  {
   "cell_type": "code",
   "execution_count": 1,
   "id": "c8e7600e-c0ff-4d20-b9d4-c80119f5cf33",
   "metadata": {},
   "outputs": [
    {
     "name": "stdin",
     "output_type": "stream",
     "text": [
      "Enter a value in kms.:  5.6\n"
     ]
    },
    {
     "name": "stdout",
     "output_type": "stream",
     "text": [
      "After converting from kms. to miles, miles: 3.4776\n"
     ]
    }
   ],
   "source": [
    "a = float(input(\"Enter a value in kms.: \"))\n",
    "miles = a * 0.621\n",
    "print(\"After converting from kms. to miles, miles:\",miles)"
   ]
  },
  {
   "cell_type": "markdown",
   "id": "e9c67ff4-bbb3-48be-a09b-bd8395c31ced",
   "metadata": {},
   "source": [
    "2. Write a Python program to convert Celsius to Fahrenheit?"
   ]
  },
  {
   "cell_type": "code",
   "execution_count": 2,
   "id": "d17966af-cf97-4d6a-b67d-e68aca628dcf",
   "metadata": {},
   "outputs": [
    {
     "name": "stdin",
     "output_type": "stream",
     "text": [
      "Enter the temp. in degree celsius:  36.7\n"
     ]
    },
    {
     "name": "stdout",
     "output_type": "stream",
     "text": [
      "After conversion from degree celsius to fahrenheit, fahrenheit: 98.06\n"
     ]
    }
   ],
   "source": [
    "c = float(input(\"Enter the temp. in degree celsius: \"))\n",
    "f = c * 1.8 + 32\n",
    "print(\"After conversion from degree celsius to fahrenheit, fahrenheit:\",f)"
   ]
  },
  {
   "cell_type": "markdown",
   "id": "081f2f81-da52-48d2-84c1-ca0f432c263b",
   "metadata": {},
   "source": [
    "3. Write a Python program to display calendar?"
   ]
  },
  {
   "cell_type": "code",
   "execution_count": 3,
   "id": "b8af959e-af9e-45ba-b2fa-0a8f440fa572",
   "metadata": {},
   "outputs": [
    {
     "name": "stdin",
     "output_type": "stream",
     "text": [
      "Enter year in the format YYYY:  2022\n",
      "Enter month in the format MM:  12\n"
     ]
    },
    {
     "name": "stdout",
     "output_type": "stream",
     "text": [
      "   December 2022\n",
      "Mo Tu We Th Fr Sa Su\n",
      "          1  2  3  4\n",
      " 5  6  7  8  9 10 11\n",
      "12 13 14 15 16 17 18\n",
      "19 20 21 22 23 24 25\n",
      "26 27 28 29 30 31\n",
      "\n"
     ]
    }
   ],
   "source": [
    "import calendar\n",
    "yy = int(input(\"Enter year in the format YYYY: \"))\n",
    "mm = int(input(\"Enter month in the format MM: \"))\n",
    "print(calendar.month(yy, mm))"
   ]
  },
  {
   "cell_type": "markdown",
   "id": "cf5d9875-f821-4260-bd31-97814a29efe7",
   "metadata": {},
   "source": [
    "4. Write a Python program to solve quadratic equation?"
   ]
  },
  {
   "cell_type": "code",
   "execution_count": 4,
   "id": "83f79340-2620-4b04-8c1e-8b11067821ee",
   "metadata": {},
   "outputs": [
    {
     "name": "stdin",
     "output_type": "stream",
     "text": [
      "Enter value of a:  2\n",
      "Enter value of b:  4\n",
      "Enter value of c:  8\n"
     ]
    },
    {
     "name": "stdout",
     "output_type": "stream",
     "text": [
      "The solution are (-1-1.7320508075688772j) and (-1+1.7320508075688772j)\n"
     ]
    }
   ],
   "source": [
    "import cmath\n",
    "a = int(input(\"Enter value of a: \"))\n",
    "b = int(input(\"Enter value of b: \"))\n",
    "c = int(input(\"Enter value of c: \"))\n",
    "d = (b**2) - (4*a*c)\n",
    "sol1 = (-b-cmath.sqrt(d))/(2*a)\n",
    "sol2 = (-b+cmath.sqrt(d))/(2*a)\n",
    "print('The solution are {0} and {1}'.format(sol1,sol2))"
   ]
  },
  {
   "cell_type": "markdown",
   "id": "b9133aca-5823-4583-b622-9dc2c3af38f9",
   "metadata": {},
   "source": [
    "5. Write a Python program to swap two variables without temp variable?"
   ]
  },
  {
   "cell_type": "code",
   "execution_count": 5,
   "id": "fef4e83c-5300-4c83-a6a2-081be885ac2c",
   "metadata": {},
   "outputs": [
    {
     "name": "stdin",
     "output_type": "stream",
     "text": [
      "Enter value of x :  5\n",
      "Enter value of y :  10\n"
     ]
    },
    {
     "name": "stdout",
     "output_type": "stream",
     "text": [
      "Before swapping:  \n",
      "Value of x :  5.0  and y :  10.0\n",
      "After swapping: \n",
      "Value of x :  10.0  and y :  5.0\n"
     ]
    }
   ],
   "source": [
    "x = float(input(\"Enter value of x : \"))\n",
    "y = float(input(\"Enter value of y : \"))\n",
    "print (\"Before swapping:  \")\n",
    "print(\"Value of x : \", x, \" and y : \", y)\n",
    "x = x + y \n",
    "y = x - y \n",
    "x = x - y \n",
    "print (\"After swapping: \")\n",
    "print(\"Value of x : \", x, \" and y : \", y)"
   ]
  },
  {
   "cell_type": "code",
   "execution_count": null,
   "id": "173dfa86-57f3-4978-8b01-d540cd57632b",
   "metadata": {},
   "outputs": [],
   "source": []
  }
 ],
 "metadata": {
  "kernelspec": {
   "display_name": "Python 3 (ipykernel)",
   "language": "python",
   "name": "python3"
  },
  "language_info": {
   "codemirror_mode": {
    "name": "ipython",
    "version": 3
   },
   "file_extension": ".py",
   "mimetype": "text/x-python",
   "name": "python",
   "nbconvert_exporter": "python",
   "pygments_lexer": "ipython3",
   "version": "3.10.6"
  }
 },
 "nbformat": 4,
 "nbformat_minor": 5
}
