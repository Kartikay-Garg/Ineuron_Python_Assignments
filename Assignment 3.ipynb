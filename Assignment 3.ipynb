{
 "cells": [
  {
   "cell_type": "markdown",
   "id": "fb5d4848-3622-43f4-8ac0-5efecf2c3b18",
   "metadata": {},
   "source": [
    "1. Count the number of times iNeuron appears in the string.\n",
    "\n",
    "text = \"Welcome to iNeuron, You are a part of FSDS Bootcamp 2 in iNeuron. I hope you are enjoying the course by iNeuron\""
   ]
  },
  {
   "cell_type": "code",
   "execution_count": 5,
   "id": "e2776a87-941c-4d93-b7d9-88598dc0084e",
   "metadata": {},
   "outputs": [
    {
     "name": "stdout",
     "output_type": "stream",
     "text": [
      "3\n"
     ]
    }
   ],
   "source": [
    "text = \"Welcome to iNeuron, You are a part of FSDS Bootcamp 2 in iNeuron. I hope you are enjoying the course by iNeuron\"\n",
    "no_of_times = text.count(\"iNeuron\")\n",
    "print(no_of_times)"
   ]
  },
  {
   "cell_type": "markdown",
   "id": "054bb920-05f4-4e95-8070-b17f6506785b",
   "metadata": {},
   "source": [
    "2. Check if position 5 to 11 ends with the phrase iNeuron. in the string\n",
    "\n",
    "txt = \"Hello, welcome to FSDS 2.0 at iNeuron.\""
   ]
  },
  {
   "cell_type": "code",
   "execution_count": 9,
   "id": "a7255939-e5a7-4fb6-af6e-1ac74e3f53b3",
   "metadata": {},
   "outputs": [
    {
     "data": {
      "text/plain": [
       "True"
      ]
     },
     "execution_count": 9,
     "metadata": {},
     "output_type": "execute_result"
    }
   ],
   "source": [
    "txt = \"Hello, welcome to FSDS 2.0 at iNeuron.\"\n",
    "txt.endswith(\"iNeuron.\")"
   ]
  },
  {
   "cell_type": "markdown",
   "id": "592cc730-256e-4d3b-98bf-e0932cea25cd",
   "metadata": {},
   "source": [
    "3.txt.endswith(\"iNeuron.\")Write a program that takes your full name as input and displays the abbreviations of the first and middle names except the last name which is displayed as it is. For example, if your name is Sunny Bhaveen Chandra, then the output should be S.B.Chandra."
   ]
  },
  {
   "cell_type": "code",
   "execution_count": 12,
   "id": "ece3a18b-9af3-4352-9ecb-9f7c89f3389e",
   "metadata": {},
   "outputs": [
    {
     "name": "stdin",
     "output_type": "stream",
     "text": [
      "Please enter your full name:  Prithvi Raj Chauhan\n"
     ]
    },
    {
     "name": "stdout",
     "output_type": "stream",
     "text": [
      "P.R.Chauhan\n"
     ]
    }
   ],
   "source": [
    "name = input(\"Please enter your full name: \")\n",
    "first_name, middle_name, sir_name = name.split(\" \")\n",
    "print(f\"{first_name[0]}.{ middle_name[0]}.{sir_name}\")"
   ]
  },
  {
   "cell_type": "markdown",
   "id": "0f8b4116-cefe-4f2d-9515-8f2ee9fdeec4",
   "metadata": {},
   "source": [
    "4. Join all items in a list into a string, using a hash(#) character as separator:\n",
    "\n",
    "LIST = [\"My\", \"name\", \"is\", \"Rishav\", \"Dash\"]"
   ]
  },
  {
   "cell_type": "code",
   "execution_count": 21,
   "id": "79669779-91b2-4b43-ab04-b7fc7e797e6d",
   "metadata": {},
   "outputs": [
    {
     "data": {
      "text/plain": [
       "'My#name#is#Rishav#Dash'"
      ]
     },
     "execution_count": 21,
     "metadata": {},
     "output_type": "execute_result"
    }
   ],
   "source": [
    "LIST = [\"My\", \"name\", \"is\", \"Rishav\", \"Dash\"]\n",
    "\"#\".join (LIST)"
   ]
  },
  {
   "cell_type": "markdown",
   "id": "2cccd49a-cb9e-40de-a0ff-674b64388fec",
   "metadata": {},
   "source": [
    "5. Write example for the following string manipulation function,\n",
    "\n",
    "- isdecimal()\n",
    "- islower()\n",
    "- isupper()\n",
    "- isalpha()\n",
    "- isnumeric()"
   ]
  },
  {
   "cell_type": "code",
   "execution_count": 30,
   "id": "2aa8fbe4-b4cc-4bad-9c75-39810f6e1941",
   "metadata": {},
   "outputs": [
    {
     "data": {
      "text/plain": [
       "True"
      ]
     },
     "execution_count": 30,
     "metadata": {},
     "output_type": "execute_result"
    }
   ],
   "source": [
    "a = \"45\"\n",
    "a.isdecimal()"
   ]
  },
  {
   "cell_type": "code",
   "execution_count": 31,
   "id": "6b4bbe14-b375-4223-9951-b6b8f760be3f",
   "metadata": {},
   "outputs": [
    {
     "data": {
      "text/plain": [
       "True"
      ]
     },
     "execution_count": 31,
     "metadata": {},
     "output_type": "execute_result"
    }
   ],
   "source": [
    "b = \"kartikay garg\"\n",
    "b.islower()"
   ]
  },
  {
   "cell_type": "code",
   "execution_count": 32,
   "id": "1d4a0bb7-f2a3-439e-95d5-58c30b1e4945",
   "metadata": {},
   "outputs": [
    {
     "data": {
      "text/plain": [
       "True"
      ]
     },
     "execution_count": 32,
     "metadata": {},
     "output_type": "execute_result"
    }
   ],
   "source": [
    "c = \"KARTIKAY GARG\"\n",
    "c.isupper()"
   ]
  },
  {
   "cell_type": "code",
   "execution_count": 34,
   "id": "fa137c54-0936-438d-b449-0064d8e97f17",
   "metadata": {},
   "outputs": [
    {
     "data": {
      "text/plain": [
       "True"
      ]
     },
     "execution_count": 34,
     "metadata": {},
     "output_type": "execute_result"
    }
   ],
   "source": [
    "d = \"KARTIKAYGARG\"\n",
    "d.isalpha()"
   ]
  },
  {
   "cell_type": "code",
   "execution_count": 40,
   "id": "85107e26-f135-47b3-87a6-72f7a9c03a78",
   "metadata": {},
   "outputs": [
    {
     "data": {
      "text/plain": [
       "True"
      ]
     },
     "execution_count": 40,
     "metadata": {},
     "output_type": "execute_result"
    }
   ],
   "source": [
    "e =\"182736\"\n",
    "e.isnumeric()"
   ]
  },
  {
   "cell_type": "markdown",
   "id": "5d43f8e1-fb78-44a1-99a7-0d67184c7d5e",
   "metadata": {},
   "source": [
    "6. Indian PAN card format follows the following formats -\n",
    "\n",
    "AYEPC7894X\n",
    "ABCDE9999Y Take user input for PAN_CARD and validate as per the above example."
   ]
  },
  {
   "cell_type": "code",
   "execution_count": 42,
   "id": "47c6b27d-3f1a-4b10-9c24-5be9f2fde102",
   "metadata": {},
   "outputs": [
    {
     "name": "stdin",
     "output_type": "stream",
     "text": [
      "Please enter your PAN Card number: ABCDE1234F AJSHN8282S\n"
     ]
    },
    {
     "name": "stdout",
     "output_type": "stream",
     "text": [
      "You have entered your PAN card in the correct format.\n"
     ]
    }
   ],
   "source": [
    "pan_card = input(\"Please enter your PAN Card number: ABCDE1234F\")\n",
    "if pan_card[0:5].isupper() and pan_card[5:9].isnumeric() and pan_card[9].isupper() and len(pan_card) == 10:\n",
    "    print(\"You have entered your PAN card in the correct format.\")\n",
    "else:\n",
    "    print(\"You have entered your PAN card in the incorrect format.\")"
   ]
  },
  {
   "cell_type": "code",
   "execution_count": null,
   "id": "e8ec858d-e0d3-4828-b7dd-765311e02462",
   "metadata": {},
   "outputs": [],
   "source": []
  }
 ],
 "metadata": {
  "kernelspec": {
   "display_name": "Python 3 (ipykernel)",
   "language": "python",
   "name": "python3"
  },
  "language_info": {
   "codemirror_mode": {
    "name": "ipython",
    "version": 3
   },
   "file_extension": ".py",
   "mimetype": "text/x-python",
   "name": "python",
   "nbconvert_exporter": "python",
   "pygments_lexer": "ipython3",
   "version": "3.10.6"
  }
 },
 "nbformat": 4,
 "nbformat_minor": 5
}
