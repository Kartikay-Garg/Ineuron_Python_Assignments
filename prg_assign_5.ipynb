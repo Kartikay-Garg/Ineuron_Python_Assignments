{
 "cells": [
  {
   "cell_type": "markdown",
   "id": "5507d79d-0b5e-470a-9a1c-80bf37577693",
   "metadata": {},
   "source": [
    "1. Write a Python Program to Find LCM?"
   ]
  },
  {
   "cell_type": "code",
   "execution_count": 1,
   "id": "df7f20a2-c7c8-4563-a764-6c4cd4578dae",
   "metadata": {},
   "outputs": [
    {
     "name": "stdin",
     "output_type": "stream",
     "text": [
      "enter first number:  24\n",
      "enter second number:  12\n"
     ]
    },
    {
     "name": "stdout",
     "output_type": "stream",
     "text": [
      "the LCM of 24 and 12 is 24\n"
     ]
    }
   ],
   "source": [
    "a = int(input(\"enter first number: \"))\n",
    "b = int(input(\"enter second number: \"))\n",
    "maxnum = max(a,b)\n",
    "while True:\n",
    "    if (maxnum % a== 0 and maxnum % b == 0):\n",
    "        break\n",
    "    maxnum = maxnum + 1\n",
    "print(f\"the LCM of {a} and {b} is {maxnum}\")"
   ]
  },
  {
   "cell_type": "markdown",
   "id": "6fc9000e-4173-4205-a2c8-1f7216a5ca4d",
   "metadata": {},
   "source": [
    "2. Write a Python Program to Find HCF?"
   ]
  },
  {
   "cell_type": "code",
   "execution_count": 2,
   "id": "3baacaea-0ab2-4ada-a4ce-f00d53dca0da",
   "metadata": {},
   "outputs": [
    {
     "name": "stdin",
     "output_type": "stream",
     "text": [
      " 12\n",
      " 36\n"
     ]
    },
    {
     "name": "stdout",
     "output_type": "stream",
     "text": [
      "HCF of 12 and 36 will be 12\n"
     ]
    }
   ],
   "source": [
    "num1 = int(input())\n",
    "num2 = int(input())\n",
    "mn = min(num1,num2)\n",
    "for i in range(1,mn+1):\n",
    "    if num1%i == 0 and num2%i == 0:\n",
    "        hcf = i\n",
    "print(f\"HCF of {num1} and {num2} will be {hcf}\")"
   ]
  },
  {
   "cell_type": "markdown",
   "id": "38985e6f-4b89-4cf1-a741-532cfd93db4e",
   "metadata": {},
   "source": [
    "3. Write a Python Program to Convert Decimal to Binary, Octal and Hexadecimal?"
   ]
  },
  {
   "cell_type": "code",
   "execution_count": 3,
   "id": "1a2a0166-8d34-42dd-84c8-1cfeddab64cc",
   "metadata": {},
   "outputs": [
    {
     "name": "stdin",
     "output_type": "stream",
     "text": [
      "Enter a decimal value: \n",
      " 12\n",
      "convert into: [1] Binary, [2] Octal, [3] Hexadecimal: \n",
      " 1\n"
     ]
    },
    {
     "name": "stdout",
     "output_type": "stream",
     "text": [
      "converted to binary \n",
      " 0b1100\n"
     ]
    }
   ],
   "source": [
    "decimal = int(input(\"Enter a decimal value: \\n\"))\n",
    "convert = int(input(\"convert into: [1] Binary, [2] Octal, [3] Hexadecimal: \\n\"))\n",
    "if convert == 1:\n",
    "    print(\"converted to binary \\n\",bin(decimal))\n",
    "elif convert == 2:\n",
    "    print(\"converted to octal \\n\",oct(decimal))\n",
    "elif convert == 3:\n",
    "    print(\"converted to hexadecimal \\n\",hex(decimal))\n",
    "else:\n",
    "    print(\"please review your input\")"
   ]
  },
  {
   "cell_type": "markdown",
   "id": "b36ce880-41f7-44f5-a92b-6b5dce4fffda",
   "metadata": {},
   "source": [
    "4. Write a Python Program To Find ASCII value of a character?"
   ]
  },
  {
   "cell_type": "code",
   "execution_count": 4,
   "id": "d7c4fc14-2ea8-4e31-b994-72127dbe2c6c",
   "metadata": {},
   "outputs": [
    {
     "name": "stdin",
     "output_type": "stream",
     "text": [
      " @\n"
     ]
    },
    {
     "name": "stdout",
     "output_type": "stream",
     "text": [
      "The ASCII value of @ is 64\n"
     ]
    }
   ],
   "source": [
    "char = input()\n",
    "print(f\"The ASCII value of {char} is\",ord(char))"
   ]
  },
  {
   "cell_type": "markdown",
   "id": "2a49f727-f2d7-4196-b15d-23f2843455f9",
   "metadata": {},
   "source": [
    "5. Write a Python Program to Make a Simple Calculator with 4 basic mathematical operations?"
   ]
  },
  {
   "cell_type": "code",
   "execution_count": 5,
   "id": "ba126598-6686-430f-b587-aeb2aebd0a6d",
   "metadata": {},
   "outputs": [
    {
     "name": "stdout",
     "output_type": "stream",
     "text": [
      "~~~~~~~Here is your mini-calculator~~~~~~\n"
     ]
    },
    {
     "name": "stdin",
     "output_type": "stream",
     "text": [
      " 12.5\n",
      " 60.25\n"
     ]
    },
    {
     "name": "stdout",
     "output_type": "stream",
     "text": [
      "list of operations: + , - , * , / \n"
     ]
    },
    {
     "name": "stdin",
     "output_type": "stream",
     "text": [
      " press 1 for addition\n",
      " press 2 for substraction\n",
      " press 3 for multiplication\n",
      " press 4 for division.\n",
      " 1\n"
     ]
    },
    {
     "name": "stdout",
     "output_type": "stream",
     "text": [
      "The addition of given two numbers is 72.75\n"
     ]
    }
   ],
   "source": [
    "print(\"~~~~~~~Here is your mini-calculator~~~~~~\")\n",
    "num1 = float(input())\n",
    "num2 = float(input())\n",
    "list_of_operations = print(\"list of operations: + , - , * , / \")\n",
    "choice = int(input(\" press 1 for addition\\n press 2 for substraction\\n press 3 for multiplication\\n press 4 for division.\\n\"))\n",
    "if choice == 1:\n",
    "    print(\"The addition of given two numbers is\",num1 + num2)\n",
    "elif choice == 2:\n",
    "    print(\"The substraction of given two numbers is\",num1 - num2)\n",
    "elif choice == 3:\n",
    "    print(\"The multiplication of given two numbers is\",num1*num2)\n",
    "elif choice == 4:\n",
    "    print(\"The division of given two numbers is\",num1/num2)\n",
    "else:\n",
    "    print(\"please review your input\")"
   ]
  },
  {
   "cell_type": "code",
   "execution_count": null,
   "id": "895fd440-2df7-43d8-b59d-a23854e352fa",
   "metadata": {},
   "outputs": [],
   "source": []
  }
 ],
 "metadata": {
  "kernelspec": {
   "display_name": "Python 3 (ipykernel)",
   "language": "python",
   "name": "python3"
  },
  "language_info": {
   "codemirror_mode": {
    "name": "ipython",
    "version": 3
   },
   "file_extension": ".py",
   "mimetype": "text/x-python",
   "name": "python",
   "nbconvert_exporter": "python",
   "pygments_lexer": "ipython3",
   "version": "3.10.6"
  }
 },
 "nbformat": 4,
 "nbformat_minor": 5
}
